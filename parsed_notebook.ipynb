{
 "cells": [
  {
   "cell_type": "markdown",
   "metadata": {
    "toc": true
   },
   "source": [
    "<h1>Table of Contents<span class=\"tocSkip\"></span></h1>\n",
    "<div class=\"toc\"><ul class=\"toc-item\"><li><span><a href=\"#Final-Project-Submission\" data-toc-modified-id=\"Final-Project-Submission-1\"><span class=\"toc-item-num\">1&nbsp;&nbsp;</span>Final Project Submission</a></span></li><li><span><a href=\"#Initial-Thoughts-and-Response-to-the-Business-Problem\" data-toc-modified-id=\"Initial-Thoughts-and-Response-to-the-Business-Problem-2\"><span class=\"toc-item-num\">2&nbsp;&nbsp;</span>Initial Thoughts and Response to the Business Problem</a></span></li><li><span><a href=\"#Importing-Modules-and-Opening-Relevant-DataFrames\" data-toc-modified-id=\"Importing-Modules-and-Opening-Relevant-DataFrames-3\"><span class=\"toc-item-num\">3&nbsp;&nbsp;</span>Importing Modules and Opening Relevant DataFrames</a></span></li><li><span><a href=\"#Box-Office-Gross\" data-toc-modified-id=\"Box-Office-Gross-4\"><span class=\"toc-item-num\">4&nbsp;&nbsp;</span>Box Office Gross</a></span></li><li><span><a href=\"#Title-Basics\" data-toc-modified-id=\"Title-Basics-5\"><span class=\"toc-item-num\">5&nbsp;&nbsp;</span>Title Basics</a></span></li><li><span><a href=\"#Sorting-and-Refining-Data-by-Genre\" data-toc-modified-id=\"Sorting-and-Refining-Data-by-Genre-6\"><span class=\"toc-item-num\">6&nbsp;&nbsp;</span>Sorting and Refining Data by Genre</a></span></li><li><span><a href=\"#Exploring-the-Correlation-Between-Critical-and-Commercial-Success\" data-toc-modified-id=\"Exploring-the-Correlation-Between-Critical-and-Commercial-Success-7\"><span class=\"toc-item-num\">7&nbsp;&nbsp;</span>Exploring the Correlation Between Critical and Commercial Success</a></span></li><li><span><a href=\"#Examining-ROI-by-Genre\" data-toc-modified-id=\"Examining-ROI-by-Genre-8\"><span class=\"toc-item-num\">8&nbsp;&nbsp;</span>Examining ROI by Genre</a></span></li><li><span><a href=\"#For-Further-Explanation\" data-toc-modified-id=\"For-Further-Explanation-9\"><span class=\"toc-item-num\">9&nbsp;&nbsp;</span>For Further Explanation</a></span></li></ul></div>"
   ]
  },
  {
   "cell_type": "markdown",
   "metadata": {},
   "source": [
    "## Final Project Submission\n",
    "\n",
    "Please fill out:\n",
    "* Student name: Daniel Ross-Leutwyler\n",
    "* Student pace: **self paced** / part time / full time\n",
    "* Scheduled project review date/time: \n",
    "* Instructor name: James Irving\n",
    "* Blog post URL:\n"
   ]
  },
  {
   "cell_type": "markdown",
   "metadata": {},
   "source": [
    "## Initial Thoughts and Response to the Business Problem"
   ]
  },
  {
   "cell_type": "markdown",
   "metadata": {},
   "source": [
    "**\"Microsoft sees all the big companies creating original video content and they want to get in on the fun. They have decided to create a new movie studio, but they don’t know anything about creating movies. You are charged with exploring what types of films are currently doing the best at the box office. You must then translate those findings into actionable insights that the head of Microsoft's new movie studio can use to help decide what type of films to create.\"**\n",
    "\n",
    "There are lots of metrics to measure success. With the data at hand the two main ways to judge the success of a movie are through analyzing key financial metrics (gross box office, and return-on-investment, for example), and critical response. \n",
    "\n",
    "By analyzing what, if any, attributes the top grossing movies all share, we can make informed suggestions about what sort of film Microsoft should pursue.\n",
    "\n",
    "I will also explore the relationship between genre, budget, and gross revenue. The success of a blockbuster is in part dependent upon its ROI, as well.\n",
    "\n",
    "The analysis performed here will attempt to answer these three questions:\n",
    "\n",
    "1) What are the highest grossing genres?\n",
    "\n",
    "2) What genres have the highest ROI?\n",
    "\n",
    "3) Does a higher budget necessarily correlate with a higher gross?"
   ]
  },
  {
   "cell_type": "markdown",
   "metadata": {},
   "source": [
    "## Importing Modules and Opening Relevant DataFrames"
   ]
  },
  {
   "cell_type": "code",
   "execution_count": null,
   "metadata": {},
   "outputs": [],
   "source": [
    "import pandas as pd\n",
    "import numpy as np\n",
    "import matplotlib.pyplot as plt\n",
    "import seaborn as sns\n",
    "\n",
    "# suppressing scientific notation, and adding ',' to long values for legibility\n",
    "pd.options.display.float_format = '{:,.2f}'.format\n",
    "# setting sns context to talk for clarity and size\n",
    "sns.set_context('talk')"
   ]
  },
  {
   "cell_type": "markdown",
   "metadata": {},
   "source": [
    "These are the data sets are relevant to answering the stakeholder questions."
   ]
  },
  {
   "cell_type": "code",
   "execution_count": null,
   "metadata": {},
   "outputs": [],
   "source": [
    "# creating variables to call for opening csv\n",
    "box_office_gross = 'zippedData/bom.movie_gross.csv'\n",
    "title_basics = 'zippedData/imdb.title.basics.csv'\n",
    "ratings_url = 'zippedData/imdb.title.ratings.csv.gz'\n",
    "budget_url = 'zippedData/tn.movie_budgets.csv'"
   ]
  },
  {
   "cell_type": "markdown",
   "metadata": {},
   "source": [
    "These data sets are not relevant to the business question, either due to lack of crossover/compatibility with other sets, and outdated or incomplete data.\n",
    "\n",
    "imdb.name.basics.csv\n",
    "imbd.title.akas.csv\\\n",
    "imdb.title.crew.csv\\\n",
    "imdb.principles.csv\\\n",
    "rt.movie_info.tsv\\\n",
    "rt.reviews.tsv\\\n",
    "tmdb.movies.csv\n"
   ]
  },
  {
   "cell_type": "code",
   "execution_count": null,
   "metadata": {},
   "outputs": [],
   "source": [
    "meta_url = 'zippedData/movies_metadata.csv.zip'"
   ]
  },
  {
   "cell_type": "markdown",
   "metadata": {},
   "source": [
    "## Box Office Gross\n",
    "\n",
    "Preliminary EDA on bom.movie_gross.csv"
   ]
  },
  {
   "cell_type": "code",
   "execution_count": null,
   "metadata": {},
   "outputs": [],
   "source": [
    "def prelim(df):\n",
    "    \"\"\"access core information\n",
    "    on a dataframe at the beginning of EDA\n",
    "    \"\"\"\n",
    "    return (display(df.head()), \n",
    "            display(df.info()), \n",
    "            display(df.isna().sum()))"
   ]
  },
  {
   "cell_type": "code",
   "execution_count": null,
   "metadata": {},
   "outputs": [],
   "source": [
    "gross_df = pd.read_csv(box_office_gross)\n",
    "prelim(gross_df)"
   ]
  },
  {
   "cell_type": "markdown",
   "metadata": {},
   "source": [
    "gross_df is a data frame of movies from 2011-2018. Each row represents one movie, and each column contains the the following values:\n",
    "\n",
    "***'title', 'studio', 'domestic_gross', 'foreign_gross', and 'year'.***\n",
    "\n",
    "There are no null entries in the ***title*** column, which contains objects.\n",
    "\n",
    "There are 5 null entries in the ***studio*** column, which contains objects.\n",
    "\n",
    "There are 28 null values in the ***domestic_gross*** column, which contains numbers, specifically floats.\n",
    "\n",
    "There are 1350 null values in the ***foreign_gross*** column, which contains objects, and will need to be cast as a float. The null values will need to be replaced.\n",
    "\n",
    "***hypothesis: foreign_gross should be summed with domestic_gross, as the global nature of media today makes the foreign/domestic binary less important. ***\n",
    "\n",
    "There are no nulls in the ***year*** column, which contains integers. \n",
    "\n",
    "Examining the 'foreign_gross' column:"
   ]
  },
  {
   "cell_type": "code",
   "execution_count": null,
   "metadata": {
    "scrolled": true
   },
   "outputs": [],
   "source": [
    "# removing commas to be able to cast as float and sanity check\n",
    "gross_df['foreign_gross'] = gross_df['foreign_gross'].str.replace(',','')\n",
    "gross_df['foreign_gross'] = gross_df['foreign_gross'].astype(float)\n",
    "gross_df.info()"
   ]
  },
  {
   "cell_type": "code",
   "execution_count": null,
   "metadata": {},
   "outputs": [],
   "source": [
    "# small function to look at the rows with null values\n",
    "def see_nans(df, cols=None): \n",
    "    \"\"\"accepts a data frame, and optionally columns\n",
    "    returns a data frame of all null values.\n",
    "    \n",
    "    Used for previewing missing data.\n",
    "    Does not alter df in any way\"\"\"\n",
    "    \n",
    "    if cols is None:\n",
    "        cols = df.columns\n",
    "    return df[df[cols].isnull().any(axis=1)]\n",
    "\n",
    "see_nans(gross_df, ['foreign_gross']).head(20)"
   ]
  },
  {
   "cell_type": "markdown",
   "metadata": {},
   "source": [
    "A cursory search of the foreign box office receipts for several movies on this list demonstrates that while some of these movies did not have a foreign theatrical release (Flipped), it appears that some of the movies foreign box office receipts have already been counted in the domestic gross category (Courageous), and others have simply had that info omitted. It is also worth mentioning that the movies missing the foreign_gross data are not on the upper end of the the domestic_gross category, rendering their relevance minimal. I will replace all the Nan values in this column with 0."
   ]
  },
  {
   "cell_type": "code",
   "execution_count": null,
   "metadata": {},
   "outputs": [],
   "source": [
    "# replacing NaNs with 0 and sanity check\n",
    "gross_df['foreign_gross'] = gross_df['foreign_gross'].fillna(0)\n",
    "see_nans(gross_df, ['foreign_gross']).head(20)"
   ]
  },
  {
   "cell_type": "code",
   "execution_count": null,
   "metadata": {
    "scrolled": true
   },
   "outputs": [],
   "source": [
    "# exploring the difference in domestic and foreign gross\n",
    "print(f\"The domestic gross sum is: ${round(gross_df['domestic_gross'].sum()):,}\")\n",
    "print(f\"The domestic gross mean is: ${round(gross_df['domestic_gross'].mean()):,}\")\n",
    "print(f\"The foreign gross sum is: ${round(gross_df['foreign_gross'].sum()):,}\")\n",
    "print(f\"The foreign gross mean is: ${round(gross_df['foreign_gross'].mean()):,}\")"
   ]
  },
  {
   "cell_type": "markdown",
   "metadata": {},
   "source": [
    "Above we can see that the both the total foreign box office receipts (even with the 1350 replaced data points) and the foreign box office mean are ***higher*** than domestic.\n",
    "\n",
    "This means it ***may*** warrant giving special consideration to movies that performed well in foreign markets.\n",
    "\n",
    "I will also add an additional column for total_gross summing the domestic and foreign columns, as this is a feature that is absent in the original data."
   ]
  },
  {
   "cell_type": "code",
   "execution_count": null,
   "metadata": {},
   "outputs": [],
   "source": [
    "gross_df['total_gross'] = (gross_df['domestic_gross'] + gross_df['foreign_gross'])\n",
    "gross_df.head()"
   ]
  },
  {
   "cell_type": "code",
   "execution_count": null,
   "metadata": {},
   "outputs": [],
   "source": [
    "# breaking out new dfs to explore how domestic, foreign, and total compare\n",
    "top_100_domestic = gross_df.sort_values('domestic_gross', ascending=False)[:100]\n",
    "top_100_foreign = gross_df.sort_values('foreign_gross', ascending=False)[:100]\n",
    "top_100_total = gross_df.sort_values('total_gross', ascending=False)[:100]\n",
    "\n",
    "display(top_100_domestic.head())\n",
    "display(top_100_foreign.head())\n",
    "display(top_100_total.head())"
   ]
  },
  {
   "cell_type": "markdown",
   "metadata": {},
   "source": [
    "It is clear from looking at the top_100_domestic films sorted by domestic_gross (top table) that the foreign_gross values are incorrect. It is not possible that there were only $1,131 of receipts for Star Wars the Force Awakens, and imdb stats confirm this.\n",
    "\n",
    "Exploring incorrect values in the foreign_gross column:"
   ]
  },
  {
   "cell_type": "code",
   "execution_count": null,
   "metadata": {},
   "outputs": [],
   "source": [
    "top_100_domestic.sort_values('foreign_gross').head(6)"
   ]
  },
  {
   "cell_type": "markdown",
   "metadata": {},
   "source": [
    "Ok, luckily we only have to manually scrape and replace the foreign gross box office receipts from 5 movies. Phew."
   ]
  },
  {
   "cell_type": "code",
   "execution_count": null,
   "metadata": {},
   "outputs": [],
   "source": [
    "# creating dictionary to replace incorrect values.\n",
    "# correct values taken from IMBD\n",
    "\n",
    "mapping_dict = {1010.00 : 1009996733,\n",
    "               1019.40 : 1018130819,\n",
    "               1131.60 : 1132859475,\n",
    "               1163.00 : 1162334379,\n",
    "               1369.50 : 1369544272}\n",
    "\n",
    "gross_df['foreign_gross'] = gross_df['foreign_gross'].replace(mapping_dict)\n",
    "\n",
    "# also need to re-concatinate the total_gross to reflect the updated foreign_gross\n",
    "\n",
    "gross_df['total_gross'] = (gross_df['domestic_gross'] + gross_df['foreign_gross'])\n",
    "\n",
    "# recreating the top_100_x dataframes with the updated\n",
    "# foreign receipt data\n",
    "\n",
    "top_100_domestic = gross_df.sort_values('domestic_gross', ascending=False)[:100]\n",
    "top_100_foreign = gross_df.sort_values('foreign_gross', ascending=False)[:100]\n",
    "top_100_total = gross_df.sort_values('total_gross', ascending=False)[:100]\n",
    "\n",
    "display(top_100_domestic.head(10))\n",
    "display(top_100_foreign.head(10))\n",
    "display(top_100_total.head(10))"
   ]
  },
  {
   "cell_type": "code",
   "execution_count": null,
   "metadata": {
    "scrolled": false
   },
   "outputs": [],
   "source": [
    "fig, [ax1, ax2, ax3] = plt.subplots(1 ,3 , figsize=(20,10))\n",
    "\n",
    "sns.barplot(data=top_100_domestic.head(10), x='title', y='domestic_gross', ax=ax1)\n",
    "sns.barplot(data=top_100_foreign.head(10), x='title', y='foreign_gross', ax=ax2)\n",
    "sns.barplot(data=top_100_total.head(10), x='title', y='total_gross', ax=ax3)\n",
    "\n",
    "ax1.set_title('Domestic')\n",
    "ax1.set_ylabel('hundred millions')\n",
    "ax1.set_xticklabels(ax1.get_xticklabels(),rotation=45, ha='right')\n",
    "\n",
    "ax2.set_title('Foreign')\n",
    "ax2.set_ylabel('billions')\n",
    "ax2.set_xticklabels(ax2.get_xticklabels(),rotation=45, ha='right')\n",
    "\n",
    "ax3.set_title('Total')\n",
    "ax3.set_ylabel('billions')\n",
    "ax3.set_xticklabels(ax3.get_xticklabels(),rotation=45, ha='right')\n",
    "\n",
    "plt.tight_layout()\n",
    "\n",
    "plt.suptitle('Top 5 Movies by Domestic, Foreign, and Total Gross', y=1.1);"
   ]
  },
  {
   "cell_type": "markdown",
   "metadata": {},
   "source": [
    "The only conclusion that we can draw from the selected data is that movies that are in a series have the highest gross, in both the foreign and domestic categories. In fact, out of the top 10 by total sales only one movie, Black Panther, is not part of a series.\n",
    "\n",
    "Combining this data frame with another that contains info about genre will allow for more direct suggestions to be made."
   ]
  },
  {
   "cell_type": "markdown",
   "metadata": {},
   "source": [
    "## Title Basics\n",
    "\n",
    "Preliminary EDA on imdb.title.basics.csv"
   ]
  },
  {
   "cell_type": "code",
   "execution_count": null,
   "metadata": {},
   "outputs": [],
   "source": [
    "title_basics_df = pd.read_csv(title_basics)\n",
    "prelim(title_basics_df)"
   ]
  },
  {
   "cell_type": "markdown",
   "metadata": {},
   "source": [
    "The title.basics table appears to contain a data frame primarily of movies from 2010-2018, but also with some titles from ***THE FUTURE***. Each row represents one movie, and contains columns with the following values:\n",
    "\n",
    "'tconst', 'primary_title', 'original_title', 'start_year','runtime_minutes', 'genres'\n",
    "\n",
    "There are no null entries in the tconst column, which is an object, as I would expect, and this column can be used as the index to ***join this df with other dfs that are similarly formatted.***\n",
    "\n",
    "There are no null entries in the start_year column, which is an integer, as I would expect. ***This column will require cleaning to deal with movies from the future.***\n",
    "\n",
    "There are significant null entires in the runtime_minutes column, which may be of questionable use. ***It may be worth exploring the relationship between movie length and box office success.***\n",
    "\n",
    "There are 5408 null values in the genres column. This column will require more exploration as we will need it to help make decisions about what kind of movies Microsoft should be making.\n",
    "\n",
    "Exploring the 'start_year' column:"
   ]
  },
  {
   "cell_type": "code",
   "execution_count": null,
   "metadata": {
    "scrolled": true
   },
   "outputs": [],
   "source": [
    "title_basics_df['start_year'].value_counts()"
   ]
  },
  {
   "cell_type": "code",
   "execution_count": null,
   "metadata": {},
   "outputs": [],
   "source": [
    "title_basics_df[title_basics_df['start_year'] > 2021].head()"
   ]
  },
  {
   "cell_type": "code",
   "execution_count": null,
   "metadata": {},
   "outputs": [],
   "source": [
    "# we will set aside the movies from the future. There may be vaule in\n",
    "# evaluating them by genre to see what is lined up in the future, but\n",
    "# this evaluation would be supplementary to our primary question.\n",
    "future_movies_df = title_basics_df.loc[title_basics_df['start_year'] > 2021]\n",
    "title_basics_df = title_basics_df.loc[title_basics_df['start_year'] <= 2021]\n",
    "\n",
    "# sanity check\n",
    "title_basics_df['start_year'].value_counts()"
   ]
  },
  {
   "cell_type": "markdown",
   "metadata": {},
   "source": [
    "## Sorting and Refining Data by Genre\n",
    "\n",
    "At this point, to limit the scope of the data to evaluate, the title_basics_df and the gross_df should be merged."
   ]
  },
  {
   "cell_type": "code",
   "execution_count": null,
   "metadata": {},
   "outputs": [],
   "source": [
    "display(title_basics_df.head())\n",
    "display(gross_df.head())"
   ]
  },
  {
   "cell_type": "markdown",
   "metadata": {},
   "source": [
    "There are two potential columns in the title_basics_df that we can use to merge: 'primary_title' and 'original_title'. Below are two different dfs that show us which column has more overlap with the gross_df."
   ]
  },
  {
   "cell_type": "code",
   "execution_count": null,
   "metadata": {},
   "outputs": [],
   "source": [
    "df_orig = pd.merge(title_basics_df, gross_df, left_on='original_title',\n",
    "              right_on='title')\n",
    "df_pri = pd.merge(title_basics_df, gross_df, left_on='primary_title',\n",
    "              right_on='title')\n",
    "display(len(df_orig))\n",
    "display(len(df_pri))"
   ]
  },
  {
   "cell_type": "markdown",
   "metadata": {},
   "source": [
    "The 'primary_title' series has more overlap with gross_df. This is the merged df that we will use for the rest of our exploration.\n",
    "\n",
    "Exploring the 'genre' column:"
   ]
  },
  {
   "cell_type": "code",
   "execution_count": null,
   "metadata": {},
   "outputs": [],
   "source": [
    "df_pri['genres'].value_counts()"
   ]
  },
  {
   "cell_type": "code",
   "execution_count": null,
   "metadata": {},
   "outputs": [],
   "source": [
    "# splitting the genres into lists in a new column\n",
    "\n",
    "df_split = df_pri.copy() \n",
    "df_split['genres_split'] = df_split['genres'].str.split(',')\n",
    "\n",
    "# 'exploding' the 'genres_split' list to get multiple entries for each film by genre\n",
    "\n",
    "df_split = df_split.explode('genres_split')"
   ]
  },
  {
   "cell_type": "markdown",
   "metadata": {},
   "source": [
    "Now that the genre column has been cleaned to be more useful, it is possible to begin aggregate processes to explore the data."
   ]
  },
  {
   "cell_type": "code",
   "execution_count": null,
   "metadata": {},
   "outputs": [],
   "source": [
    "# calculating the mean value by genre\n",
    "df_genres = df_split.groupby('genres_split').mean().drop('start_year', axis=1)\n",
    "df_genres = df_genres.sort_values('total_gross', ascending=False)\n",
    "df_genres.reset_index(inplace=True)\n",
    "df_genres.head()"
   ]
  },
  {
   "cell_type": "code",
   "execution_count": null,
   "metadata": {},
   "outputs": [],
   "source": [
    "fig, [ax1, ax2, ax3] = plt.subplots(1, 3, figsize=(20,10))\n",
    "sns.barplot(data=df_genres.head(10), x='genres_split', y='domestic_gross',\n",
    "            ci=68, ax=ax1)\n",
    "ax1.set_title('Top 10 Domestic Gross Sales by Genre', y=1.1)\n",
    "ax1.set_xlabel('Genres')\n",
    "ax1.set_ylabel('Mean Gross, in 100M USD')\n",
    "ax1.set_xticklabels(ax1.get_xticklabels(),rotation=45, ha='right')\n",
    "\n",
    "sns.barplot(data=df_genres.head(10), x='genres_split', y='foreign_gross', \n",
    "            ci=68, ax=ax2)\n",
    "ax2.set_title('Top 10 Foreign Gross Sales by Genre', y=1.1)\n",
    "ax2.set_xlabel('Genres')\n",
    "ax2.set_ylabel('Mean Gross, in 100M USD')\n",
    "ax2.set_xticklabels(ax2.get_xticklabels(),rotation=45, ha='right')\n",
    "\n",
    "sns.barplot(data=df_genres.head(10), x='genres_split', y='total_gross', \n",
    "            ci=68, ax=ax3)\n",
    "ax3.set_title('Top 10 Gross Sales by Genre', y=1.1)\n",
    "ax3.set_xlabel('Genres')\n",
    "ax3.set_ylabel('Mean Gross, in 100M USD')\n",
    "ax3.set_xticklabels(ax2.get_xticklabels(),rotation=45, ha='right');\n",
    "\n",
    "plt.tight_layout()"
   ]
  },
  {
   "cell_type": "markdown",
   "metadata": {},
   "source": [
    "There is a striking similarity between the spread of genres across domestic and foreign markets, suggesting that there is universal appeal for the highest grossing genres of film.\n",
    "\n",
    "***The key take away here is that sci-fi, adventure, and animated films all perform exceptionally well at the box office. The second tier of genres are action, fantasy, and family movies. These seem like the natural genres for Microsoft to focus their energies.***"
   ]
  },
  {
   "cell_type": "markdown",
   "metadata": {},
   "source": [
    "## Exploring the Correlation Between Critical and Commercial Success"
   ]
  },
  {
   "cell_type": "code",
   "execution_count": null,
   "metadata": {},
   "outputs": [],
   "source": [
    "ratings_df = pd.read_csv(ratings_url)\n",
    "prelim(ratings_df)"
   ]
  },
  {
   "cell_type": "markdown",
   "metadata": {},
   "source": [
    "This table will be useful once merged with title_basics, for comparing the ratings on IMDB with the gross sales to explore that correlation.\n",
    "\n",
    "It does not appear that any cleaning needs to be done. Every column has no nulls, and is of the expected dtype."
   ]
  },
  {
   "cell_type": "code",
   "execution_count": null,
   "metadata": {},
   "outputs": [],
   "source": [
    "# merging columns and sanity check\n",
    "rat_gro_df = pd.merge(df_split, ratings_df, left_on='tconst', right_on='tconst')\n",
    "\n",
    "# dropping columns that are not relevent to our investigation\n",
    "df_cleaned = rat_gro_df.drop(['original_title', 'genres', 'title', 'studio', 'year'], axis=1)\n",
    "df_cleaned.head()"
   ]
  },
  {
   "cell_type": "code",
   "execution_count": null,
   "metadata": {},
   "outputs": [],
   "source": [
    "df_genres_rating = df_cleaned.groupby('genres_split').mean()\n",
    "df_genres_rating = df_genres_rating.sort_values('averagerating', ascending=False)\n",
    "df_genres_rating.reset_index(inplace=True)\n",
    "df_genres_rating.head()"
   ]
  },
  {
   "cell_type": "code",
   "execution_count": null,
   "metadata": {
    "scrolled": true
   },
   "outputs": [],
   "source": [
    "fig, [ax1, ax2, ax3] = plt.subplots(1, 3, figsize=(20,8))\n",
    "sns.barplot(data=df_genres_rating.head(15), x='genres_split', y='averagerating',\n",
    "            ci=68, ax=ax1)\n",
    "ax1.set_title('Top 15 Genres by Average Rating on IMBD', y=1.1)\n",
    "ax1.set_xlabel('Genres')\n",
    "ax1.set_ylabel('Average Rating on IMBD')\n",
    "ax1.set_xticklabels(ax1.get_xticklabels(),rotation=45, ha='right')\n",
    "\n",
    "sns.barplot(data=df_genres_rating.head(15), x='genres_split', y='averagerating', \n",
    "            ci=68, ax=ax2)\n",
    "ax2.set_title('Top 15 Genres by Average Rating on IMBD', y=1.1)\n",
    "ax2.set_xlabel('Genres')\n",
    "ax2.set_ylabel('Average Rating on IMBD')\n",
    "ax2.set_xticklabels(ax2.get_xticklabels(),rotation=45, ha='right')\n",
    "\n",
    "sns.barplot(data=df_genres_rating.head(15), x='genres_split', y='averagerating', \n",
    "            ci=68, ax=ax3)\n",
    "ax3.set_title('Top 15 Genres by Average Rating on IMBD', y=1.1)\n",
    "ax3.set_xlabel('Genres')\n",
    "ax3.set_ylabel('Average Rating on IMBD')\n",
    "ax3.set_xticklabels(ax3.get_xticklabels(),rotation=45, ha='right')\n",
    "plt.tight_layout()"
   ]
  },
  {
   "cell_type": "markdown",
   "metadata": {},
   "source": [
    "The above plots show that the critical success of a genre, as measured by ratings on IMDB, does not mirror the success of a genre when measured by total sales.\n",
    "\n",
    "This suggests that critical success does not always correlate with box office success."
   ]
  },
  {
   "cell_type": "code",
   "execution_count": null,
   "metadata": {
    "scrolled": true
   },
   "outputs": [],
   "source": [
    "#plotting correlation between total_gross and averagerating\n",
    "df_cleaned.corr(method='pearson')"
   ]
  },
  {
   "cell_type": "markdown",
   "metadata": {},
   "source": [
    "The strongest correlations in the above matrix are generally obvious, and non-informative. For instance, a strong correlation between the number of votes and the domestic gross makes intuitive sense -- more people seeing a movie naturally leads to more people rating it on IMDB.\n",
    "\n",
    "Other correlations, while weaker, may be more instructive. Below are plots of some of the more interesting correlations in this data frame:"
   ]
  },
  {
   "cell_type": "code",
   "execution_count": null,
   "metadata": {},
   "outputs": [],
   "source": [
    "fig, [ax1, ax2, ax3] = plt.subplots(3, 1, figsize=(10, 20))\n",
    "sns.regplot(data=(df_cleaned.sort_values('total_gross', ascending=False).head(500)), \n",
    "                                 x='total_gross', y='averagerating', ax=ax1)\n",
    "ax1.set_title('Total Gross vs. Average Rating')\n",
    "ax1.set_xlabel('Total Gross, in billions of USD')\n",
    "ax1.set_ylabel('Average Rating on IMBD')\n",
    "\n",
    "sns.regplot(data=(df_cleaned.sort_values('total_gross', ascending=False).head(500)), \n",
    "                                 x='total_gross', y='runtime_minutes', ax=ax2)\n",
    "ax2.set_title('Total Gross vs. Film Length')\n",
    "ax2.set_xlabel('Total Gross, in billions of USD')\n",
    "ax2.set_ylabel('Film Length, in minutes')\n",
    "\n",
    "sns.regplot(data=(df_cleaned.sort_values('total_gross', ascending=False).head(500)), \n",
    "                                 x='runtime_minutes', y='averagerating', ax=ax3)\n",
    "ax3.set_title('Film Length vs. Average Rating')\n",
    "ax3.set_xlabel('Film Length, in minues')\n",
    "ax3.set_ylabel('Average Rating on IMBD');\n",
    "plt.tight_layout()"
   ]
  },
  {
   "cell_type": "markdown",
   "metadata": {},
   "source": [
    "## Examining ROI by Genre\n",
    "\n",
    "Knowing the budget for these movies can provide a ballpark estimate on the ROI of movies, which can be then sorted by genre to give actionable data.\n"
   ]
  },
  {
   "cell_type": "code",
   "execution_count": null,
   "metadata": {
    "scrolled": false
   },
   "outputs": [],
   "source": [
    "budget_df = pd.read_csv(budget_url)\n",
    "prelim(budget_df)"
   ]
  },
  {
   "cell_type": "markdown",
   "metadata": {},
   "source": [
    "The budget_df contains data about the release date, movie title, production budget, and box office gross. Since we already have cleaned gross data, we will be merging only the production budget and movie name with our existing df.\n",
    "\n",
    "Additionally we will have to clean and recast the production_budget column."
   ]
  },
  {
   "cell_type": "code",
   "execution_count": null,
   "metadata": {},
   "outputs": [],
   "source": [
    "# merge dfs and clean, recast budget column as float, dropping excess columns\n",
    "# and sanity check\n",
    "df = pd.merge(df_cleaned, budget_df, left_on='primary_title', right_on='movie')\n",
    "df['production_budget'] = df['production_budget'].str.strip(\n",
    "    '$').str.replace(',','').astype(float)\n",
    "df = df.drop(['id', 'release_date', 'movie', 'domestic_gross_y',\n",
    "              'worldwide_gross'], axis=1)\n",
    "df.sort_values('production_budget', ascending=False).head()"
   ]
  },
  {
   "cell_type": "code",
   "execution_count": null,
   "metadata": {},
   "outputs": [],
   "source": [
    "# combining the 'music' and 'musical' genres\n",
    "df['genres_split'] = df['genres_split'].str.replace('Musical', 'Music')\n",
    "\n",
    "# grouping by genre and aggregating by mean\n",
    "\n",
    "df_avg = df.groupby('genres_split').mean()\n",
    "# creating new column to represent ROI\n",
    "\n",
    "df_avg['ROI'] = ((df_avg['total_gross'] - df_avg['production_budget']) / df_avg['production_budget']) * 100\n",
    "# ordering by ROI\n",
    "\n",
    "df_avg = df_avg.sort_values('ROI', ascending=False)\n",
    "df_avg.reset_index(inplace=True)"
   ]
  },
  {
   "cell_type": "code",
   "execution_count": null,
   "metadata": {},
   "outputs": [],
   "source": [
    "fig, (ax1, ax2) = plt.subplots(1,2,figsize=(12,8))\n",
    "\n",
    "sns.barplot(data=df_avg.head(15), x='genres_split', y=\"ROI\", ax=ax1)\n",
    "ax1.set_title('ROI by Genre')\n",
    "ax1.set_xlabel('Genre')\n",
    "ax1.set_xticklabels(ax1.get_xticklabels(),rotation=45, ha='right')\n",
    "\n",
    "sns.barplot(data=df_avg.sort_values('production_budget', ascending=False).head(15),\n",
    "                                    x ='genres_split', y='production_budget', ax=ax2)\n",
    "ax2.set_title('Average Production Budget by Genre')\n",
    "ax2.set_xlabel('Genre')\n",
    "ax2.set_ylabel('Production Budget, in hundreds of million USD')\n",
    "ax2.set_xticklabels(ax2.get_xticklabels(),rotation=45, ha='right');\n",
    "plt.tight_layout()"
   ]
  },
  {
   "cell_type": "code",
   "execution_count": null,
   "metadata": {},
   "outputs": [],
   "source": [
    "df_avg.groupby('genres_split')['ROI', 'production_budget'].mean().sort_values('production_budget')"
   ]
  },
  {
   "cell_type": "code",
   "execution_count": null,
   "metadata": {
    "scrolled": false
   },
   "outputs": [],
   "source": [
    "sns.lmplot(x=\"production_budget\", y=\"ROI\", data=df_avg, fit_reg=False, hue='genres_split');"
   ]
  },
  {
   "cell_type": "markdown",
   "metadata": {},
   "source": [
    "The intersection of lower production budget and higher ROI (the upper left quadrant of the above chart) is a great place for Microsoft to begin its movie studio business. Lower risk and greater reward is a smart, efficient way to enter a crowded market.\n"
   ]
  },
  {
   "cell_type": "markdown",
   "metadata": {
    "heading_collapsed": true
   },
   "source": [
    "## For Further Explanation\n",
    "\n",
    "COVID-19 certainly changed the way that people consume movies. Can we generate any insights from looking at the increase in pay-per-view and streaming services during the pandemic? How valuable is that segement of the market once movie theaters open at full capacity again?\n",
    "\n",
    "Is there a correlation between runtime and critical and/or box office success?"
   ]
  },
  {
   "cell_type": "code",
   "execution_count": null,
   "metadata": {
    "hidden": true
   },
   "outputs": [],
   "source": []
  },
  {
   "cell_type": "code",
   "execution_count": null,
   "metadata": {
    "hidden": true
   },
   "outputs": [],
   "source": []
  }
 ],
 "metadata": {
  "kernelspec": {
   "display_name": "Python 3",
   "language": "python",
   "name": "python3"
  },
  "language_info": {
   "codemirror_mode": {
    "name": "ipython",
    "version": 3
   },
   "file_extension": ".py",
   "mimetype": "text/x-python",
   "name": "python",
   "nbconvert_exporter": "python",
   "pygments_lexer": "ipython3",
   "version": "3.8.5"
  },
  "toc": {
   "base_numbering": 1,
   "nav_menu": {},
   "number_sections": true,
   "sideBar": true,
   "skip_h1_title": false,
   "title_cell": "Table of Contents",
   "title_sidebar": "Contents",
   "toc_cell": true,
   "toc_position": {},
   "toc_section_display": true,
   "toc_window_display": true
  }
 },
 "nbformat": 4,
 "nbformat_minor": 2
}
