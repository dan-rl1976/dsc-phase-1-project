{
 "cells": [
  {
   "cell_type": "markdown",
   "metadata": {
    "toc": true
   },
   "source": [
    "<h1>Table of Contents<span class=\"tocSkip\"></span></h1>\n",
    "<div class=\"toc\"><ul class=\"toc-item\"><li><span><a href=\"#Final-Project-Submission\" data-toc-modified-id=\"Final-Project-Submission-1\"><span class=\"toc-item-num\">1&nbsp;&nbsp;</span>Final Project Submission</a></span></li><li><span><a href=\"#Overview\" data-toc-modified-id=\"Overview-2\"><span class=\"toc-item-num\">2&nbsp;&nbsp;</span>Overview</a></span><ul class=\"toc-item\"><li><span><a href=\"#Initial-Thoughts-and-Response-to-the-Business-Problem\" data-toc-modified-id=\"Initial-Thoughts-and-Response-to-the-Business-Problem-2.1\"><span class=\"toc-item-num\">2.1&nbsp;&nbsp;</span>Initial Thoughts and Response to the Business Problem</a></span></li></ul></li><li><span><a href=\"#Data-Cleaning,-Merging,-and-Aggregating\" data-toc-modified-id=\"Data-Cleaning,-Merging,-and-Aggregating-3\"><span class=\"toc-item-num\">3&nbsp;&nbsp;</span>Data Cleaning, Merging, and Aggregating</a></span><ul class=\"toc-item\"><li><span><a href=\"#Importing-Modules-and-Relevent-Datasets\" data-toc-modified-id=\"Importing-Modules-and-Relevent-Datasets-3.1\"><span class=\"toc-item-num\">3.1&nbsp;&nbsp;</span>Importing Modules and Relevent Datasets</a></span></li><li><span><a href=\"#Cleaning-Box-Office-Gross-Data\" data-toc-modified-id=\"Cleaning-Box-Office-Gross-Data-3.2\"><span class=\"toc-item-num\">3.2&nbsp;&nbsp;</span>Cleaning Box Office Gross Data</a></span></li><li><span><a href=\"#Cleaning-'Title-Basics'.\" data-toc-modified-id=\"Cleaning-'Title-Basics'.-3.3\"><span class=\"toc-item-num\">3.3&nbsp;&nbsp;</span>Cleaning 'Title Basics'.</a></span></li><li><span><a href=\"#Cleaning-'Movie-Budgets'\" data-toc-modified-id=\"Cleaning-'Movie-Budgets'-3.4\"><span class=\"toc-item-num\">3.4&nbsp;&nbsp;</span>Cleaning 'Movie Budgets'</a></span></li></ul></li><li><span><a href=\"#Q1-What-are-the-Highest-Grossing-Genres-from-2010-2018\" data-toc-modified-id=\"Q1-What-are-the-Highest-Grossing-Genres-from-2010-2018-4\"><span class=\"toc-item-num\">4&nbsp;&nbsp;</span>Q1 What are the Highest Grossing Genres from 2010-2018</a></span></li><li><span><a href=\"#Q2\" data-toc-modified-id=\"Q2-5\"><span class=\"toc-item-num\">5&nbsp;&nbsp;</span>Q2</a></span><ul class=\"toc-item\"><li><span><a href=\"#What-Genres-Have-the-Highest-Revenue\" data-toc-modified-id=\"What-Genres-Have-the-Highest-Revenue-5.1\"><span class=\"toc-item-num\">5.1&nbsp;&nbsp;</span>What Genres Have the Highest Revenue</a></span></li><li><span><a href=\"#Which-Genres-Have-the-Highest-ROI\" data-toc-modified-id=\"Which-Genres-Have-the-Highest-ROI-5.2\"><span class=\"toc-item-num\">5.2&nbsp;&nbsp;</span>Which Genres Have the Highest ROI</a></span></li><li><span><a href=\"#Q3-Does-a-Higher-Budget-Correlate-with-a-Higher-ROI\" data-toc-modified-id=\"Q3-Does-a-Higher-Budget-Correlate-with-a-Higher-ROI-5.3\"><span class=\"toc-item-num\">5.3&nbsp;&nbsp;</span>Q3 Does a Higher Budget Correlate with a Higher ROI</a></span></li></ul></li><li><span><a href=\"#Conclusions\" data-toc-modified-id=\"Conclusions-6\"><span class=\"toc-item-num\">6&nbsp;&nbsp;</span>Conclusions</a></span><ul class=\"toc-item\"><li><span><a href=\"#Conclusions\" data-toc-modified-id=\"Conclusions-6.1\"><span class=\"toc-item-num\">6.1&nbsp;&nbsp;</span>Conclusions</a></span></li><li><span><a href=\"#Areas-For-Further-Investigation\" data-toc-modified-id=\"Areas-For-Further-Investigation-6.2\"><span class=\"toc-item-num\">6.2&nbsp;&nbsp;</span>Areas For Further Investigation</a></span></li></ul></li></ul></div>"
   ]
  },
  {
   "cell_type": "markdown",
   "metadata": {},
   "source": [
    "# Final Project Submission\n",
    "\n",
    "Please fill out:\n",
    "* Student name: Daniel Ross-Leutwyler\n",
    "* Student pace: **self paced** / part time / full time\n",
    "* Scheduled project review date/time: 8/12/21, 5:00 PM\n",
    "* Instructor name: James Irving\n",
    "* Blog post URL:"
   ]
  },
  {
   "cell_type": "markdown",
   "metadata": {},
   "source": [
    "# Overview\n",
    "\n",
    "In this project I will make suggestions about what sort of movies Microsoft should make for the launch of their movie studio.\n",
    "\n",
    "Using data from IMDB, Box Office Mojo, and The Numbers, I will look at historical data from 2010-2018 to analyze what sort of. movies perform the best at the box office.\n",
    "\n"
   ]
  },
  {
   "cell_type": "markdown",
   "metadata": {},
   "source": [
    "## Initial Thoughts and Response to the Business Problem\n",
    "\n",
    "**\"Microsoft sees all the big companies creating original video content and they want to get in on the fun. They have decided to create a new movie studio, but they don’t know anything about creating movies. You are charged with exploring what types of films are currently doing the best at the box office. You must then translate those findings into actionable insights that the head of Microsoft's new movie studio can use to help decide what type of films to create.\"**\n",
    "\n",
    "There are lots of metrics to measure success, however some are easier to objectively measure than others. With the data at hand the two main ways to judge the success of a movie are through analyzing key financial metrics (gross box office, and return-on-investment, for example), and critical response (as aggregated by the IMBD website). \n",
    "\n",
    "By analyzing what, if any, attributes the top grossing movies all share, we can make informed suggestions about what sort of film Microsoft should pursue.\n",
    "\n",
    "I will also explore the relationship between genre, budget, and gross revenue. The success of a blockbuster is in part dependent upon its ROI, as well.\n",
    "\n",
    "The analysis performed here will attempt to answer these three questions:\n",
    "\n",
    "Q1) What are the highest grossing genres from 2010-2018?\n",
    "\n",
    "Q2) What genres have the highest revenue and ROI over that same time frame?\n",
    "\n",
    "Q3) Which genres have a lower production budget and a higher ROI?\n",
    "\n",
    "These questions will help Microsoft make business savvy decisions about their entry into a crowded market."
   ]
  },
  {
   "cell_type": "markdown",
   "metadata": {},
   "source": [
    "# Data Cleaning, Merging, and Aggregating"
   ]
  },
  {
   "cell_type": "markdown",
   "metadata": {},
   "source": [
    "## Importing Modules and Relevent Datasets"
   ]
  },
  {
   "cell_type": "code",
   "execution_count": 1,
   "metadata": {},
   "outputs": [],
   "source": [
    "import pandas as pd\n",
    "import numpy as np\n",
    "import matplotlib.pyplot as plt\n",
    "import seaborn as sns\n",
    "%matplotlib inline\n",
    "\n",
    "# suppressing scientific notation, and adding ',' to long values for legibility\n",
    "# adapted from https://re-thought.com/how-to-suppress-scientific-notation-in-pandas/\n",
    "pd.options.display.float_format = '{:,.2f}'.format\n",
    "# setting sns context to talk for clarity and size\n",
    "sns.set_context('talk')"
   ]
  },
  {
   "cell_type": "markdown",
   "metadata": {},
   "source": [
    "These are the data sets are relevant to answering the stakeholder questions, as they contain information related to gross sales, production budget, and genre."
   ]
  },
  {
   "cell_type": "code",
   "execution_count": 2,
   "metadata": {},
   "outputs": [],
   "source": [
    "# creating variables to call for opening csv\n",
    "box_office_gross = 'zippedData/bom.movie_gross.csv'\n",
    "title_basics = 'zippedData/imdb.title.basics.csv'\n",
    "budget_url = 'zippedData/tn.movie_budgets.csv'"
   ]
  },
  {
   "cell_type": "markdown",
   "metadata": {},
   "source": [
    "These data sets are not relevant to the business question, due to outdated or incomplete data, or containing data that is beyond the scope of our business question.\n",
    "\n",
    "imdb.title.ratings.csv.gz\\\n",
    "imdb.name.basics.csv\\\n",
    "imbd.title.akas.csv\\\n",
    "imdb.title.crew.csv\\\n",
    "imdb.principles.csv\\\n",
    "rt.movie_info.tsv\\\n",
    "rt.reviews.tsv\\\n",
    "tmdb.movies.csv\n"
   ]
  },
  {
   "cell_type": "code",
   "execution_count": 3,
   "metadata": {},
   "outputs": [],
   "source": [
    "# Defining functions to help with EDA\n",
    "\n",
    "def prelim(df):\n",
    "    \"\"\"displays core information\n",
    "    on a dataframe at the beginning of EDA\n",
    "    \n",
    "    accepts a DataFrame as input, and displays\n",
    "    the head, info, and sum of all null values\n",
    "    for each column in that DataFrame\n",
    "    \"\"\"\n",
    "    return (display(df.head()), \n",
    "            display(df.info()), \n",
    "            display(df.isna().sum()))\n",
    "\n",
    "def see_nans(df, cols=None): \n",
    "    \"\"\"accepts a data frame, and optionally columns\n",
    "    returns a data frame of all null values.\n",
    "    \n",
    "    Used for previewing missing data.\n",
    "    Does not alter df in any way\"\"\"\n",
    "    \n",
    "    if cols is None:\n",
    "        cols = df.columns\n",
    "    return df[df[cols].isnull().any(axis=1)]"
   ]
  },
  {
   "cell_type": "markdown",
   "metadata": {},
   "source": [
    "## Cleaning Box Office Gross Data"
   ]
  },
  {
   "cell_type": "code",
   "execution_count": 4,
   "metadata": {
    "scrolled": false
   },
   "outputs": [
    {
     "data": {
      "text/html": [
       "<div>\n",
       "<style scoped>\n",
       "    .dataframe tbody tr th:only-of-type {\n",
       "        vertical-align: middle;\n",
       "    }\n",
       "\n",
       "    .dataframe tbody tr th {\n",
       "        vertical-align: top;\n",
       "    }\n",
       "\n",
       "    .dataframe thead th {\n",
       "        text-align: right;\n",
       "    }\n",
       "</style>\n",
       "<table border=\"1\" class=\"dataframe\">\n",
       "  <thead>\n",
       "    <tr style=\"text-align: right;\">\n",
       "      <th></th>\n",
       "      <th>title</th>\n",
       "      <th>studio</th>\n",
       "      <th>domestic_gross</th>\n",
       "      <th>foreign_gross</th>\n",
       "      <th>year</th>\n",
       "    </tr>\n",
       "  </thead>\n",
       "  <tbody>\n",
       "    <tr>\n",
       "      <th>0</th>\n",
       "      <td>Toy Story 3</td>\n",
       "      <td>BV</td>\n",
       "      <td>415,000,000.00</td>\n",
       "      <td>652000000</td>\n",
       "      <td>2010</td>\n",
       "    </tr>\n",
       "    <tr>\n",
       "      <th>1</th>\n",
       "      <td>Alice in Wonderland (2010)</td>\n",
       "      <td>BV</td>\n",
       "      <td>334,200,000.00</td>\n",
       "      <td>691300000</td>\n",
       "      <td>2010</td>\n",
       "    </tr>\n",
       "    <tr>\n",
       "      <th>2</th>\n",
       "      <td>Harry Potter and the Deathly Hallows Part 1</td>\n",
       "      <td>WB</td>\n",
       "      <td>296,000,000.00</td>\n",
       "      <td>664300000</td>\n",
       "      <td>2010</td>\n",
       "    </tr>\n",
       "    <tr>\n",
       "      <th>3</th>\n",
       "      <td>Inception</td>\n",
       "      <td>WB</td>\n",
       "      <td>292,600,000.00</td>\n",
       "      <td>535700000</td>\n",
       "      <td>2010</td>\n",
       "    </tr>\n",
       "    <tr>\n",
       "      <th>4</th>\n",
       "      <td>Shrek Forever After</td>\n",
       "      <td>P/DW</td>\n",
       "      <td>238,700,000.00</td>\n",
       "      <td>513900000</td>\n",
       "      <td>2010</td>\n",
       "    </tr>\n",
       "  </tbody>\n",
       "</table>\n",
       "</div>"
      ],
      "text/plain": [
       "                                         title studio  domestic_gross  \\\n",
       "0                                  Toy Story 3     BV  415,000,000.00   \n",
       "1                   Alice in Wonderland (2010)     BV  334,200,000.00   \n",
       "2  Harry Potter and the Deathly Hallows Part 1     WB  296,000,000.00   \n",
       "3                                    Inception     WB  292,600,000.00   \n",
       "4                          Shrek Forever After   P/DW  238,700,000.00   \n",
       "\n",
       "  foreign_gross  year  \n",
       "0     652000000  2010  \n",
       "1     691300000  2010  \n",
       "2     664300000  2010  \n",
       "3     535700000  2010  \n",
       "4     513900000  2010  "
      ]
     },
     "metadata": {},
     "output_type": "display_data"
    },
    {
     "name": "stdout",
     "output_type": "stream",
     "text": [
      "<class 'pandas.core.frame.DataFrame'>\n",
      "RangeIndex: 3387 entries, 0 to 3386\n",
      "Data columns (total 5 columns):\n",
      " #   Column          Non-Null Count  Dtype  \n",
      "---  ------          --------------  -----  \n",
      " 0   title           3387 non-null   object \n",
      " 1   studio          3382 non-null   object \n",
      " 2   domestic_gross  3359 non-null   float64\n",
      " 3   foreign_gross   2037 non-null   object \n",
      " 4   year            3387 non-null   int64  \n",
      "dtypes: float64(1), int64(1), object(3)\n",
      "memory usage: 132.4+ KB\n"
     ]
    },
    {
     "data": {
      "text/plain": [
       "None"
      ]
     },
     "metadata": {},
     "output_type": "display_data"
    },
    {
     "data": {
      "text/plain": [
       "title                0\n",
       "studio               5\n",
       "domestic_gross      28\n",
       "foreign_gross     1350\n",
       "year                 0\n",
       "dtype: int64"
      ]
     },
     "metadata": {},
     "output_type": "display_data"
    },
    {
     "data": {
      "text/plain": [
       "(None, None, None)"
      ]
     },
     "execution_count": 4,
     "metadata": {},
     "output_type": "execute_result"
    }
   ],
   "source": [
    "gross_df = pd.read_csv(box_office_gross)\n",
    "prelim(gross_df)"
   ]
  },
  {
   "cell_type": "markdown",
   "metadata": {},
   "source": [
    "gross_df is a DataFrame of movies from 2011-2018. Each row represents one movie, and each column contains the the following values:\n",
    "\n",
    "***'title', 'studio', 'domestic_gross', 'foreign_gross', and 'year'.***\n",
    "\n",
    "There are no null entries in the ***title*** column, which contains objects.\n",
    "\n",
    "There are 5 null entries in the ***studio*** column, which contains objects.\n",
    "\n",
    "There are 28 null values in the ***domestic_gross*** column, which contains numbers, specifically floats.\n",
    "\n",
    "There are 1350 null values in the ***foreign_gross*** column, which contains objects, and will need to be cast as a float. The null values will need to be replaced.\n",
    "\n",
    "***hypothesis: foreign_gross should be summed with domestic_gross, as the global nature of media today makes the foreign/domestic binary less important. ***\n",
    "\n",
    "There are no nulls in the ***year*** column, which contains integers. \n",
    "\n",
    "Examining the 'foreign_gross' column:"
   ]
  },
  {
   "cell_type": "code",
   "execution_count": 5,
   "metadata": {},
   "outputs": [
    {
     "data": {
      "text/plain": [
       "5"
      ]
     },
     "execution_count": 5,
     "metadata": {},
     "output_type": "execute_result"
    }
   ],
   "source": [
    "# identifying existing ',' in the strings that needs to be replaced\n",
    "# these are literal strings, not the ',' from the .format in 3.1\n",
    "gross_df['foreign_gross'].str.contains(',').sum()"
   ]
  },
  {
   "cell_type": "code",
   "execution_count": 6,
   "metadata": {},
   "outputs": [
    {
     "name": "stdout",
     "output_type": "stream",
     "text": [
      "<class 'pandas.core.frame.DataFrame'>\n",
      "RangeIndex: 3387 entries, 0 to 3386\n",
      "Data columns (total 5 columns):\n",
      " #   Column          Non-Null Count  Dtype  \n",
      "---  ------          --------------  -----  \n",
      " 0   title           3387 non-null   object \n",
      " 1   studio          3382 non-null   object \n",
      " 2   domestic_gross  3359 non-null   float64\n",
      " 3   foreign_gross   2037 non-null   float64\n",
      " 4   year            3387 non-null   int64  \n",
      "dtypes: float64(2), int64(1), object(2)\n",
      "memory usage: 132.4+ KB\n"
     ]
    }
   ],
   "source": [
    "# removing commas to be able to cast as float and sanity check\n",
    "gross_df['foreign_gross'] = gross_df['foreign_gross'].str.replace(',','')\n",
    "gross_df['foreign_gross'] = gross_df['foreign_gross'].astype(float)\n",
    "gross_df.info()"
   ]
  },
  {
   "cell_type": "code",
   "execution_count": 7,
   "metadata": {},
   "outputs": [
    {
     "data": {
      "text/html": [
       "<div>\n",
       "<style scoped>\n",
       "    .dataframe tbody tr th:only-of-type {\n",
       "        vertical-align: middle;\n",
       "    }\n",
       "\n",
       "    .dataframe tbody tr th {\n",
       "        vertical-align: top;\n",
       "    }\n",
       "\n",
       "    .dataframe thead th {\n",
       "        text-align: right;\n",
       "    }\n",
       "</style>\n",
       "<table border=\"1\" class=\"dataframe\">\n",
       "  <thead>\n",
       "    <tr style=\"text-align: right;\">\n",
       "      <th></th>\n",
       "      <th>title</th>\n",
       "      <th>studio</th>\n",
       "      <th>domestic_gross</th>\n",
       "      <th>foreign_gross</th>\n",
       "      <th>year</th>\n",
       "    </tr>\n",
       "  </thead>\n",
       "  <tbody>\n",
       "    <tr>\n",
       "      <th>222</th>\n",
       "      <td>Flipped</td>\n",
       "      <td>WB</td>\n",
       "      <td>1,800,000.00</td>\n",
       "      <td>nan</td>\n",
       "      <td>2010</td>\n",
       "    </tr>\n",
       "    <tr>\n",
       "      <th>254</th>\n",
       "      <td>The Polar Express (IMAX re-issue 2010)</td>\n",
       "      <td>WB</td>\n",
       "      <td>673,000.00</td>\n",
       "      <td>nan</td>\n",
       "      <td>2010</td>\n",
       "    </tr>\n",
       "    <tr>\n",
       "      <th>267</th>\n",
       "      <td>Tiny Furniture</td>\n",
       "      <td>IFC</td>\n",
       "      <td>392,000.00</td>\n",
       "      <td>nan</td>\n",
       "      <td>2010</td>\n",
       "    </tr>\n",
       "    <tr>\n",
       "      <th>269</th>\n",
       "      <td>Grease (Sing-a-Long re-issue)</td>\n",
       "      <td>Par.</td>\n",
       "      <td>366,000.00</td>\n",
       "      <td>nan</td>\n",
       "      <td>2010</td>\n",
       "    </tr>\n",
       "    <tr>\n",
       "      <th>280</th>\n",
       "      <td>Last Train Home</td>\n",
       "      <td>Zeit.</td>\n",
       "      <td>288,000.00</td>\n",
       "      <td>nan</td>\n",
       "      <td>2010</td>\n",
       "    </tr>\n",
       "    <tr>\n",
       "      <th>287</th>\n",
       "      <td>Sweetgrass</td>\n",
       "      <td>CGld</td>\n",
       "      <td>207,000.00</td>\n",
       "      <td>nan</td>\n",
       "      <td>2010</td>\n",
       "    </tr>\n",
       "    <tr>\n",
       "      <th>291</th>\n",
       "      <td>Casino Jack and the United States of Money</td>\n",
       "      <td>Magn.</td>\n",
       "      <td>177,000.00</td>\n",
       "      <td>nan</td>\n",
       "      <td>2010</td>\n",
       "    </tr>\n",
       "    <tr>\n",
       "      <th>308</th>\n",
       "      <td>Alamar</td>\n",
       "      <td>FM</td>\n",
       "      <td>61,600.00</td>\n",
       "      <td>nan</td>\n",
       "      <td>2010</td>\n",
       "    </tr>\n",
       "    <tr>\n",
       "      <th>311</th>\n",
       "      <td>Hatchet 2</td>\n",
       "      <td>Vita.</td>\n",
       "      <td>52,600.00</td>\n",
       "      <td>nan</td>\n",
       "      <td>2010</td>\n",
       "    </tr>\n",
       "    <tr>\n",
       "      <th>319</th>\n",
       "      <td>Living in Emergency</td>\n",
       "      <td>Truly</td>\n",
       "      <td>32,200.00</td>\n",
       "      <td>nan</td>\n",
       "      <td>2010</td>\n",
       "    </tr>\n",
       "    <tr>\n",
       "      <th>323</th>\n",
       "      <td>The Taqwacores</td>\n",
       "      <td>Strand</td>\n",
       "      <td>11,400.00</td>\n",
       "      <td>nan</td>\n",
       "      <td>2010</td>\n",
       "    </tr>\n",
       "    <tr>\n",
       "      <th>324</th>\n",
       "      <td>Cherry</td>\n",
       "      <td>Abr.</td>\n",
       "      <td>11,400.00</td>\n",
       "      <td>nan</td>\n",
       "      <td>2010</td>\n",
       "    </tr>\n",
       "    <tr>\n",
       "      <th>325</th>\n",
       "      <td>Terkel in Trouble</td>\n",
       "      <td>Indic.</td>\n",
       "      <td>10,800.00</td>\n",
       "      <td>nan</td>\n",
       "      <td>2010</td>\n",
       "    </tr>\n",
       "    <tr>\n",
       "      <th>326</th>\n",
       "      <td>Kimjongilia</td>\n",
       "      <td>Lorb.</td>\n",
       "      <td>4,400.00</td>\n",
       "      <td>nan</td>\n",
       "      <td>2010</td>\n",
       "    </tr>\n",
       "    <tr>\n",
       "      <th>458</th>\n",
       "      <td>Courageous</td>\n",
       "      <td>TriS</td>\n",
       "      <td>34,500,000.00</td>\n",
       "      <td>nan</td>\n",
       "      <td>2011</td>\n",
       "    </tr>\n",
       "    <tr>\n",
       "      <th>473</th>\n",
       "      <td>Our Idiot Brother</td>\n",
       "      <td>Wein.</td>\n",
       "      <td>24,800,000.00</td>\n",
       "      <td>nan</td>\n",
       "      <td>2011</td>\n",
       "    </tr>\n",
       "    <tr>\n",
       "      <th>511</th>\n",
       "      <td>Straw Dogs (2011)</td>\n",
       "      <td>SGem</td>\n",
       "      <td>10,300,000.00</td>\n",
       "      <td>nan</td>\n",
       "      <td>2011</td>\n",
       "    </tr>\n",
       "    <tr>\n",
       "      <th>512</th>\n",
       "      <td>Prom</td>\n",
       "      <td>BV</td>\n",
       "      <td>10,100,000.00</td>\n",
       "      <td>nan</td>\n",
       "      <td>2011</td>\n",
       "    </tr>\n",
       "    <tr>\n",
       "      <th>524</th>\n",
       "      <td>Take Me Home Tonight</td>\n",
       "      <td>Rela.</td>\n",
       "      <td>6,900,000.00</td>\n",
       "      <td>nan</td>\n",
       "      <td>2011</td>\n",
       "    </tr>\n",
       "    <tr>\n",
       "      <th>525</th>\n",
       "      <td>Cedar Rapids</td>\n",
       "      <td>FoxS</td>\n",
       "      <td>6,900,000.00</td>\n",
       "      <td>nan</td>\n",
       "      <td>2011</td>\n",
       "    </tr>\n",
       "  </tbody>\n",
       "</table>\n",
       "</div>"
      ],
      "text/plain": [
       "                                          title  studio  domestic_gross  \\\n",
       "222                                     Flipped      WB    1,800,000.00   \n",
       "254      The Polar Express (IMAX re-issue 2010)      WB      673,000.00   \n",
       "267                              Tiny Furniture     IFC      392,000.00   \n",
       "269               Grease (Sing-a-Long re-issue)    Par.      366,000.00   \n",
       "280                             Last Train Home   Zeit.      288,000.00   \n",
       "287                                  Sweetgrass    CGld      207,000.00   \n",
       "291  Casino Jack and the United States of Money   Magn.      177,000.00   \n",
       "308                                      Alamar      FM       61,600.00   \n",
       "311                                   Hatchet 2   Vita.       52,600.00   \n",
       "319                         Living in Emergency   Truly       32,200.00   \n",
       "323                              The Taqwacores  Strand       11,400.00   \n",
       "324                                      Cherry    Abr.       11,400.00   \n",
       "325                           Terkel in Trouble  Indic.       10,800.00   \n",
       "326                                 Kimjongilia   Lorb.        4,400.00   \n",
       "458                                  Courageous    TriS   34,500,000.00   \n",
       "473                           Our Idiot Brother   Wein.   24,800,000.00   \n",
       "511                           Straw Dogs (2011)    SGem   10,300,000.00   \n",
       "512                                        Prom      BV   10,100,000.00   \n",
       "524                        Take Me Home Tonight   Rela.    6,900,000.00   \n",
       "525                                Cedar Rapids    FoxS    6,900,000.00   \n",
       "\n",
       "     foreign_gross  year  \n",
       "222            nan  2010  \n",
       "254            nan  2010  \n",
       "267            nan  2010  \n",
       "269            nan  2010  \n",
       "280            nan  2010  \n",
       "287            nan  2010  \n",
       "291            nan  2010  \n",
       "308            nan  2010  \n",
       "311            nan  2010  \n",
       "319            nan  2010  \n",
       "323            nan  2010  \n",
       "324            nan  2010  \n",
       "325            nan  2010  \n",
       "326            nan  2010  \n",
       "458            nan  2011  \n",
       "473            nan  2011  \n",
       "511            nan  2011  \n",
       "512            nan  2011  \n",
       "524            nan  2011  \n",
       "525            nan  2011  "
      ]
     },
     "execution_count": 7,
     "metadata": {},
     "output_type": "execute_result"
    }
   ],
   "source": [
    "# investigating the null values\n",
    "see_nans(gross_df, ['foreign_gross']).head(20)"
   ]
  },
  {
   "cell_type": "markdown",
   "metadata": {},
   "source": [
    "A cursory search of the foreign box office receipts for several movies on this list demonstrates that while some of these movies did not have a foreign theatrical release (Flipped), it appears that some of the movies foreign box office receipts have already been counted in the domestic gross category (Courageous). Others have simply had that info omitted. On balance, the movies missing the foreign_gross data are not on the upper end of the the domestic_gross category, rendering their relevance minimal. In order to aggregate the data in the foreign_gross column, I will replace all the Nan values in this column with 0."
   ]
  },
  {
   "cell_type": "code",
   "execution_count": 8,
   "metadata": {},
   "outputs": [
    {
     "data": {
      "text/html": [
       "<div>\n",
       "<style scoped>\n",
       "    .dataframe tbody tr th:only-of-type {\n",
       "        vertical-align: middle;\n",
       "    }\n",
       "\n",
       "    .dataframe tbody tr th {\n",
       "        vertical-align: top;\n",
       "    }\n",
       "\n",
       "    .dataframe thead th {\n",
       "        text-align: right;\n",
       "    }\n",
       "</style>\n",
       "<table border=\"1\" class=\"dataframe\">\n",
       "  <thead>\n",
       "    <tr style=\"text-align: right;\">\n",
       "      <th></th>\n",
       "      <th>title</th>\n",
       "      <th>studio</th>\n",
       "      <th>domestic_gross</th>\n",
       "      <th>foreign_gross</th>\n",
       "      <th>year</th>\n",
       "    </tr>\n",
       "  </thead>\n",
       "  <tbody>\n",
       "  </tbody>\n",
       "</table>\n",
       "</div>"
      ],
      "text/plain": [
       "Empty DataFrame\n",
       "Columns: [title, studio, domestic_gross, foreign_gross, year]\n",
       "Index: []"
      ]
     },
     "execution_count": 8,
     "metadata": {},
     "output_type": "execute_result"
    }
   ],
   "source": [
    "# replacing NaNs with 0 and sanity check\n",
    "gross_df['foreign_gross'] = gross_df['foreign_gross'].fillna(0)\n",
    "see_nans(gross_df, ['foreign_gross']).head()"
   ]
  },
  {
   "cell_type": "code",
   "execution_count": 9,
   "metadata": {},
   "outputs": [
    {
     "data": {
      "text/html": [
       "<div>\n",
       "<style scoped>\n",
       "    .dataframe tbody tr th:only-of-type {\n",
       "        vertical-align: middle;\n",
       "    }\n",
       "\n",
       "    .dataframe tbody tr th {\n",
       "        vertical-align: top;\n",
       "    }\n",
       "\n",
       "    .dataframe thead th {\n",
       "        text-align: right;\n",
       "    }\n",
       "</style>\n",
       "<table border=\"1\" class=\"dataframe\">\n",
       "  <thead>\n",
       "    <tr style=\"text-align: right;\">\n",
       "      <th></th>\n",
       "      <th>title</th>\n",
       "      <th>studio</th>\n",
       "      <th>domestic_gross</th>\n",
       "      <th>foreign_gross</th>\n",
       "      <th>year</th>\n",
       "    </tr>\n",
       "  </thead>\n",
       "  <tbody>\n",
       "    <tr>\n",
       "      <th>1872</th>\n",
       "      <td>Star Wars: The Force Awakens</td>\n",
       "      <td>BV</td>\n",
       "      <td>936,700,000.00</td>\n",
       "      <td>1,131.60</td>\n",
       "      <td>2015</td>\n",
       "    </tr>\n",
       "    <tr>\n",
       "      <th>3080</th>\n",
       "      <td>Black Panther</td>\n",
       "      <td>BV</td>\n",
       "      <td>700,100,000.00</td>\n",
       "      <td>646,900,000.00</td>\n",
       "      <td>2018</td>\n",
       "    </tr>\n",
       "    <tr>\n",
       "      <th>3079</th>\n",
       "      <td>Avengers: Infinity War</td>\n",
       "      <td>BV</td>\n",
       "      <td>678,800,000.00</td>\n",
       "      <td>1,369.50</td>\n",
       "      <td>2018</td>\n",
       "    </tr>\n",
       "    <tr>\n",
       "      <th>1873</th>\n",
       "      <td>Jurassic World</td>\n",
       "      <td>Uni.</td>\n",
       "      <td>652,300,000.00</td>\n",
       "      <td>1,019.40</td>\n",
       "      <td>2015</td>\n",
       "    </tr>\n",
       "    <tr>\n",
       "      <th>727</th>\n",
       "      <td>Marvel's The Avengers</td>\n",
       "      <td>BV</td>\n",
       "      <td>623,400,000.00</td>\n",
       "      <td>895,500,000.00</td>\n",
       "      <td>2012</td>\n",
       "    </tr>\n",
       "  </tbody>\n",
       "</table>\n",
       "</div>"
      ],
      "text/plain": [
       "                             title studio  domestic_gross  foreign_gross  year\n",
       "1872  Star Wars: The Force Awakens     BV  936,700,000.00       1,131.60  2015\n",
       "3080                 Black Panther     BV  700,100,000.00 646,900,000.00  2018\n",
       "3079        Avengers: Infinity War     BV  678,800,000.00       1,369.50  2018\n",
       "1873                Jurassic World   Uni.  652,300,000.00       1,019.40  2015\n",
       "727          Marvel's The Avengers     BV  623,400,000.00 895,500,000.00  2012"
      ]
     },
     "execution_count": 9,
     "metadata": {},
     "output_type": "execute_result"
    }
   ],
   "source": [
    "# discovering irregularities in foreign gross column\n",
    "gross_df.sort_values('domestic_gross', ascending=False).head()"
   ]
  },
  {
   "cell_type": "markdown",
   "metadata": {},
   "source": [
    "It is clear from looking at the domestic_gross sorted that the foreign_gross values are incorrect. It is not possible that there were only $1,131 of receipts for Star Wars the Force Awakens, and IMDB confirms this. \n",
    "\n",
    "It appears that the incorrect amount is due to an entry error, easily fixed by using a mapping dictionary."
   ]
  },
  {
   "cell_type": "code",
   "execution_count": 10,
   "metadata": {},
   "outputs": [],
   "source": [
    "# creating dictionary to replace incorrect values.\n",
    "# correct values taken from IMBD\n",
    "\n",
    "mapping_dict = {1010.00 : 1009996733,\n",
    "               1019.40 : 1018130819,\n",
    "               1131.60 : 1132859475,\n",
    "               1163.00 : 1162334379,\n",
    "               1369.50 : 1369544272}\n",
    "\n",
    "gross_df['foreign_gross'] = gross_df['foreign_gross'].replace(mapping_dict)"
   ]
  },
  {
   "cell_type": "markdown",
   "metadata": {},
   "source": [
    "Now we can aggregate data from the domestic and foreign gross columns to make inferences."
   ]
  },
  {
   "cell_type": "code",
   "execution_count": 11,
   "metadata": {},
   "outputs": [
    {
     "name": "stdout",
     "output_type": "stream",
     "text": [
      "The domestic gross sum is: $96,557,293,580.0\n",
      "The domestic gross mean is: $28,745,845.0\n",
      "The domestic gross std is: $66,982,498.0\n",
      "The foreign gross sum is: $158,208,774,261.0\n",
      "The foreign gross mean is: $46,710,592.0\n",
      "The foreign gross std is: $120,344,901.0\n"
     ]
    }
   ],
   "source": [
    "# exploring the difference in domestic and foreign gross\n",
    "print(f\"The domestic gross sum is: ${round(gross_df['domestic_gross'].sum()):,}\")\n",
    "print(f\"The domestic gross mean is: ${round(gross_df['domestic_gross'].mean()):,}\")\n",
    "print(f\"The domestic gross std is: ${round(gross_df['domestic_gross'].std()):,}\")\n",
    "print(f\"The foreign gross sum is: ${round(gross_df['foreign_gross'].sum()):,}\")\n",
    "print(f\"The foreign gross mean is: ${round(gross_df['foreign_gross'].mean()):,}\")\n",
    "print(f\"The foreign gross std is: ${round(gross_df['foreign_gross'].std()):,}\")"
   ]
  },
  {
   "cell_type": "markdown",
   "metadata": {},
   "source": [
    "Above we can see that the both the total foreign box office receipts (even with the 1350 replaced data points) and the foreign box office mean are ***higher*** than domestic.\n",
    "\n",
    "This means it ***may*** warrant giving special consideration to movies that performed well in foreign markets.\n",
    "\n",
    "I will also add an additional column for total_gross summing the domestic and foreign columns, as this is a feature that is absent in the original data."
   ]
  },
  {
   "cell_type": "code",
   "execution_count": 12,
   "metadata": {
    "scrolled": false
   },
   "outputs": [
    {
     "data": {
      "text/html": [
       "<div>\n",
       "<style scoped>\n",
       "    .dataframe tbody tr th:only-of-type {\n",
       "        vertical-align: middle;\n",
       "    }\n",
       "\n",
       "    .dataframe tbody tr th {\n",
       "        vertical-align: top;\n",
       "    }\n",
       "\n",
       "    .dataframe thead th {\n",
       "        text-align: right;\n",
       "    }\n",
       "</style>\n",
       "<table border=\"1\" class=\"dataframe\">\n",
       "  <thead>\n",
       "    <tr style=\"text-align: right;\">\n",
       "      <th></th>\n",
       "      <th>title</th>\n",
       "      <th>studio</th>\n",
       "      <th>domestic_gross</th>\n",
       "      <th>foreign_gross</th>\n",
       "      <th>year</th>\n",
       "      <th>total_gross</th>\n",
       "    </tr>\n",
       "  </thead>\n",
       "  <tbody>\n",
       "    <tr>\n",
       "      <th>1872</th>\n",
       "      <td>Star Wars: The Force Awakens</td>\n",
       "      <td>BV</td>\n",
       "      <td>936,700,000.00</td>\n",
       "      <td>1,132,859,475.00</td>\n",
       "      <td>2015</td>\n",
       "      <td>2,069,559,475.00</td>\n",
       "    </tr>\n",
       "    <tr>\n",
       "      <th>3080</th>\n",
       "      <td>Black Panther</td>\n",
       "      <td>BV</td>\n",
       "      <td>700,100,000.00</td>\n",
       "      <td>646,900,000.00</td>\n",
       "      <td>2018</td>\n",
       "      <td>1,347,000,000.00</td>\n",
       "    </tr>\n",
       "    <tr>\n",
       "      <th>3079</th>\n",
       "      <td>Avengers: Infinity War</td>\n",
       "      <td>BV</td>\n",
       "      <td>678,800,000.00</td>\n",
       "      <td>1,369,544,272.00</td>\n",
       "      <td>2018</td>\n",
       "      <td>2,048,344,272.00</td>\n",
       "    </tr>\n",
       "    <tr>\n",
       "      <th>1873</th>\n",
       "      <td>Jurassic World</td>\n",
       "      <td>Uni.</td>\n",
       "      <td>652,300,000.00</td>\n",
       "      <td>1,018,130,819.00</td>\n",
       "      <td>2015</td>\n",
       "      <td>1,670,430,819.00</td>\n",
       "    </tr>\n",
       "    <tr>\n",
       "      <th>727</th>\n",
       "      <td>Marvel's The Avengers</td>\n",
       "      <td>BV</td>\n",
       "      <td>623,400,000.00</td>\n",
       "      <td>895,500,000.00</td>\n",
       "      <td>2012</td>\n",
       "      <td>1,518,900,000.00</td>\n",
       "    </tr>\n",
       "    <tr>\n",
       "      <th>2758</th>\n",
       "      <td>Star Wars: The Last Jedi</td>\n",
       "      <td>BV</td>\n",
       "      <td>620,200,000.00</td>\n",
       "      <td>712,400,000.00</td>\n",
       "      <td>2017</td>\n",
       "      <td>1,332,600,000.00</td>\n",
       "    </tr>\n",
       "    <tr>\n",
       "      <th>3082</th>\n",
       "      <td>Incredibles 2</td>\n",
       "      <td>BV</td>\n",
       "      <td>608,600,000.00</td>\n",
       "      <td>634,200,000.00</td>\n",
       "      <td>2018</td>\n",
       "      <td>1,242,800,000.00</td>\n",
       "    </tr>\n",
       "    <tr>\n",
       "      <th>2323</th>\n",
       "      <td>Rogue One: A Star Wars Story</td>\n",
       "      <td>BV</td>\n",
       "      <td>532,200,000.00</td>\n",
       "      <td>523,900,000.00</td>\n",
       "      <td>2016</td>\n",
       "      <td>1,056,100,000.00</td>\n",
       "    </tr>\n",
       "    <tr>\n",
       "      <th>2759</th>\n",
       "      <td>Beauty and the Beast (2017)</td>\n",
       "      <td>BV</td>\n",
       "      <td>504,000,000.00</td>\n",
       "      <td>759,500,000.00</td>\n",
       "      <td>2017</td>\n",
       "      <td>1,263,500,000.00</td>\n",
       "    </tr>\n",
       "    <tr>\n",
       "      <th>2324</th>\n",
       "      <td>Finding Dory</td>\n",
       "      <td>BV</td>\n",
       "      <td>486,300,000.00</td>\n",
       "      <td>542,300,000.00</td>\n",
       "      <td>2016</td>\n",
       "      <td>1,028,600,000.00</td>\n",
       "    </tr>\n",
       "  </tbody>\n",
       "</table>\n",
       "</div>"
      ],
      "text/plain": [
       "                             title studio  domestic_gross    foreign_gross  \\\n",
       "1872  Star Wars: The Force Awakens     BV  936,700,000.00 1,132,859,475.00   \n",
       "3080                 Black Panther     BV  700,100,000.00   646,900,000.00   \n",
       "3079        Avengers: Infinity War     BV  678,800,000.00 1,369,544,272.00   \n",
       "1873                Jurassic World   Uni.  652,300,000.00 1,018,130,819.00   \n",
       "727          Marvel's The Avengers     BV  623,400,000.00   895,500,000.00   \n",
       "2758      Star Wars: The Last Jedi     BV  620,200,000.00   712,400,000.00   \n",
       "3082                 Incredibles 2     BV  608,600,000.00   634,200,000.00   \n",
       "2323  Rogue One: A Star Wars Story     BV  532,200,000.00   523,900,000.00   \n",
       "2759   Beauty and the Beast (2017)     BV  504,000,000.00   759,500,000.00   \n",
       "2324                  Finding Dory     BV  486,300,000.00   542,300,000.00   \n",
       "\n",
       "      year      total_gross  \n",
       "1872  2015 2,069,559,475.00  \n",
       "3080  2018 1,347,000,000.00  \n",
       "3079  2018 2,048,344,272.00  \n",
       "1873  2015 1,670,430,819.00  \n",
       "727   2012 1,518,900,000.00  \n",
       "2758  2017 1,332,600,000.00  \n",
       "3082  2018 1,242,800,000.00  \n",
       "2323  2016 1,056,100,000.00  \n",
       "2759  2017 1,263,500,000.00  \n",
       "2324  2016 1,028,600,000.00  "
      ]
     },
     "metadata": {},
     "output_type": "display_data"
    },
    {
     "data": {
      "text/html": [
       "<div>\n",
       "<style scoped>\n",
       "    .dataframe tbody tr th:only-of-type {\n",
       "        vertical-align: middle;\n",
       "    }\n",
       "\n",
       "    .dataframe tbody tr th {\n",
       "        vertical-align: top;\n",
       "    }\n",
       "\n",
       "    .dataframe thead th {\n",
       "        text-align: right;\n",
       "    }\n",
       "</style>\n",
       "<table border=\"1\" class=\"dataframe\">\n",
       "  <thead>\n",
       "    <tr style=\"text-align: right;\">\n",
       "      <th></th>\n",
       "      <th>title</th>\n",
       "      <th>studio</th>\n",
       "      <th>domestic_gross</th>\n",
       "      <th>foreign_gross</th>\n",
       "      <th>year</th>\n",
       "      <th>total_gross</th>\n",
       "    </tr>\n",
       "  </thead>\n",
       "  <tbody>\n",
       "    <tr>\n",
       "      <th>3079</th>\n",
       "      <td>Avengers: Infinity War</td>\n",
       "      <td>BV</td>\n",
       "      <td>678,800,000.00</td>\n",
       "      <td>1,369,544,272.00</td>\n",
       "      <td>2018</td>\n",
       "      <td>2,048,344,272.00</td>\n",
       "    </tr>\n",
       "    <tr>\n",
       "      <th>1874</th>\n",
       "      <td>Furious 7</td>\n",
       "      <td>Uni.</td>\n",
       "      <td>353,000,000.00</td>\n",
       "      <td>1,162,334,379.00</td>\n",
       "      <td>2015</td>\n",
       "      <td>1,515,334,379.00</td>\n",
       "    </tr>\n",
       "    <tr>\n",
       "      <th>1872</th>\n",
       "      <td>Star Wars: The Force Awakens</td>\n",
       "      <td>BV</td>\n",
       "      <td>936,700,000.00</td>\n",
       "      <td>1,132,859,475.00</td>\n",
       "      <td>2015</td>\n",
       "      <td>2,069,559,475.00</td>\n",
       "    </tr>\n",
       "    <tr>\n",
       "      <th>1873</th>\n",
       "      <td>Jurassic World</td>\n",
       "      <td>Uni.</td>\n",
       "      <td>652,300,000.00</td>\n",
       "      <td>1,018,130,819.00</td>\n",
       "      <td>2015</td>\n",
       "      <td>1,670,430,819.00</td>\n",
       "    </tr>\n",
       "    <tr>\n",
       "      <th>2760</th>\n",
       "      <td>The Fate of the Furious</td>\n",
       "      <td>Uni.</td>\n",
       "      <td>226,000,000.00</td>\n",
       "      <td>1,009,996,733.00</td>\n",
       "      <td>2017</td>\n",
       "      <td>1,235,996,733.00</td>\n",
       "    </tr>\n",
       "    <tr>\n",
       "      <th>328</th>\n",
       "      <td>Harry Potter and the Deathly Hallows Part 2</td>\n",
       "      <td>WB</td>\n",
       "      <td>381,000,000.00</td>\n",
       "      <td>960,500,000.00</td>\n",
       "      <td>2011</td>\n",
       "      <td>1,341,500,000.00</td>\n",
       "    </tr>\n",
       "    <tr>\n",
       "      <th>1875</th>\n",
       "      <td>Avengers: Age of Ultron</td>\n",
       "      <td>BV</td>\n",
       "      <td>459,000,000.00</td>\n",
       "      <td>946,400,000.00</td>\n",
       "      <td>2015</td>\n",
       "      <td>1,405,400,000.00</td>\n",
       "    </tr>\n",
       "    <tr>\n",
       "      <th>727</th>\n",
       "      <td>Marvel's The Avengers</td>\n",
       "      <td>BV</td>\n",
       "      <td>623,400,000.00</td>\n",
       "      <td>895,500,000.00</td>\n",
       "      <td>2012</td>\n",
       "      <td>1,518,900,000.00</td>\n",
       "    </tr>\n",
       "    <tr>\n",
       "      <th>3081</th>\n",
       "      <td>Jurassic World: Fallen Kingdom</td>\n",
       "      <td>Uni.</td>\n",
       "      <td>417,700,000.00</td>\n",
       "      <td>891,800,000.00</td>\n",
       "      <td>2018</td>\n",
       "      <td>1,309,500,000.00</td>\n",
       "    </tr>\n",
       "    <tr>\n",
       "      <th>1127</th>\n",
       "      <td>Frozen</td>\n",
       "      <td>BV</td>\n",
       "      <td>400,700,000.00</td>\n",
       "      <td>875,700,000.00</td>\n",
       "      <td>2013</td>\n",
       "      <td>1,276,400,000.00</td>\n",
       "    </tr>\n",
       "  </tbody>\n",
       "</table>\n",
       "</div>"
      ],
      "text/plain": [
       "                                            title studio  domestic_gross  \\\n",
       "3079                       Avengers: Infinity War     BV  678,800,000.00   \n",
       "1874                                    Furious 7   Uni.  353,000,000.00   \n",
       "1872                 Star Wars: The Force Awakens     BV  936,700,000.00   \n",
       "1873                               Jurassic World   Uni.  652,300,000.00   \n",
       "2760                      The Fate of the Furious   Uni.  226,000,000.00   \n",
       "328   Harry Potter and the Deathly Hallows Part 2     WB  381,000,000.00   \n",
       "1875                      Avengers: Age of Ultron     BV  459,000,000.00   \n",
       "727                         Marvel's The Avengers     BV  623,400,000.00   \n",
       "3081               Jurassic World: Fallen Kingdom   Uni.  417,700,000.00   \n",
       "1127                                       Frozen     BV  400,700,000.00   \n",
       "\n",
       "        foreign_gross  year      total_gross  \n",
       "3079 1,369,544,272.00  2018 2,048,344,272.00  \n",
       "1874 1,162,334,379.00  2015 1,515,334,379.00  \n",
       "1872 1,132,859,475.00  2015 2,069,559,475.00  \n",
       "1873 1,018,130,819.00  2015 1,670,430,819.00  \n",
       "2760 1,009,996,733.00  2017 1,235,996,733.00  \n",
       "328    960,500,000.00  2011 1,341,500,000.00  \n",
       "1875   946,400,000.00  2015 1,405,400,000.00  \n",
       "727    895,500,000.00  2012 1,518,900,000.00  \n",
       "3081   891,800,000.00  2018 1,309,500,000.00  \n",
       "1127   875,700,000.00  2013 1,276,400,000.00  "
      ]
     },
     "metadata": {},
     "output_type": "display_data"
    },
    {
     "data": {
      "text/html": [
       "<div>\n",
       "<style scoped>\n",
       "    .dataframe tbody tr th:only-of-type {\n",
       "        vertical-align: middle;\n",
       "    }\n",
       "\n",
       "    .dataframe tbody tr th {\n",
       "        vertical-align: top;\n",
       "    }\n",
       "\n",
       "    .dataframe thead th {\n",
       "        text-align: right;\n",
       "    }\n",
       "</style>\n",
       "<table border=\"1\" class=\"dataframe\">\n",
       "  <thead>\n",
       "    <tr style=\"text-align: right;\">\n",
       "      <th></th>\n",
       "      <th>title</th>\n",
       "      <th>studio</th>\n",
       "      <th>domestic_gross</th>\n",
       "      <th>foreign_gross</th>\n",
       "      <th>year</th>\n",
       "      <th>total_gross</th>\n",
       "    </tr>\n",
       "  </thead>\n",
       "  <tbody>\n",
       "    <tr>\n",
       "      <th>1872</th>\n",
       "      <td>Star Wars: The Force Awakens</td>\n",
       "      <td>BV</td>\n",
       "      <td>936,700,000.00</td>\n",
       "      <td>1,132,859,475.00</td>\n",
       "      <td>2015</td>\n",
       "      <td>2,069,559,475.00</td>\n",
       "    </tr>\n",
       "    <tr>\n",
       "      <th>3079</th>\n",
       "      <td>Avengers: Infinity War</td>\n",
       "      <td>BV</td>\n",
       "      <td>678,800,000.00</td>\n",
       "      <td>1,369,544,272.00</td>\n",
       "      <td>2018</td>\n",
       "      <td>2,048,344,272.00</td>\n",
       "    </tr>\n",
       "    <tr>\n",
       "      <th>1873</th>\n",
       "      <td>Jurassic World</td>\n",
       "      <td>Uni.</td>\n",
       "      <td>652,300,000.00</td>\n",
       "      <td>1,018,130,819.00</td>\n",
       "      <td>2015</td>\n",
       "      <td>1,670,430,819.00</td>\n",
       "    </tr>\n",
       "    <tr>\n",
       "      <th>727</th>\n",
       "      <td>Marvel's The Avengers</td>\n",
       "      <td>BV</td>\n",
       "      <td>623,400,000.00</td>\n",
       "      <td>895,500,000.00</td>\n",
       "      <td>2012</td>\n",
       "      <td>1,518,900,000.00</td>\n",
       "    </tr>\n",
       "    <tr>\n",
       "      <th>1874</th>\n",
       "      <td>Furious 7</td>\n",
       "      <td>Uni.</td>\n",
       "      <td>353,000,000.00</td>\n",
       "      <td>1,162,334,379.00</td>\n",
       "      <td>2015</td>\n",
       "      <td>1,515,334,379.00</td>\n",
       "    </tr>\n",
       "    <tr>\n",
       "      <th>1875</th>\n",
       "      <td>Avengers: Age of Ultron</td>\n",
       "      <td>BV</td>\n",
       "      <td>459,000,000.00</td>\n",
       "      <td>946,400,000.00</td>\n",
       "      <td>2015</td>\n",
       "      <td>1,405,400,000.00</td>\n",
       "    </tr>\n",
       "    <tr>\n",
       "      <th>3080</th>\n",
       "      <td>Black Panther</td>\n",
       "      <td>BV</td>\n",
       "      <td>700,100,000.00</td>\n",
       "      <td>646,900,000.00</td>\n",
       "      <td>2018</td>\n",
       "      <td>1,347,000,000.00</td>\n",
       "    </tr>\n",
       "    <tr>\n",
       "      <th>328</th>\n",
       "      <td>Harry Potter and the Deathly Hallows Part 2</td>\n",
       "      <td>WB</td>\n",
       "      <td>381,000,000.00</td>\n",
       "      <td>960,500,000.00</td>\n",
       "      <td>2011</td>\n",
       "      <td>1,341,500,000.00</td>\n",
       "    </tr>\n",
       "    <tr>\n",
       "      <th>2758</th>\n",
       "      <td>Star Wars: The Last Jedi</td>\n",
       "      <td>BV</td>\n",
       "      <td>620,200,000.00</td>\n",
       "      <td>712,400,000.00</td>\n",
       "      <td>2017</td>\n",
       "      <td>1,332,600,000.00</td>\n",
       "    </tr>\n",
       "    <tr>\n",
       "      <th>3081</th>\n",
       "      <td>Jurassic World: Fallen Kingdom</td>\n",
       "      <td>Uni.</td>\n",
       "      <td>417,700,000.00</td>\n",
       "      <td>891,800,000.00</td>\n",
       "      <td>2018</td>\n",
       "      <td>1,309,500,000.00</td>\n",
       "    </tr>\n",
       "  </tbody>\n",
       "</table>\n",
       "</div>"
      ],
      "text/plain": [
       "                                            title studio  domestic_gross  \\\n",
       "1872                 Star Wars: The Force Awakens     BV  936,700,000.00   \n",
       "3079                       Avengers: Infinity War     BV  678,800,000.00   \n",
       "1873                               Jurassic World   Uni.  652,300,000.00   \n",
       "727                         Marvel's The Avengers     BV  623,400,000.00   \n",
       "1874                                    Furious 7   Uni.  353,000,000.00   \n",
       "1875                      Avengers: Age of Ultron     BV  459,000,000.00   \n",
       "3080                                Black Panther     BV  700,100,000.00   \n",
       "328   Harry Potter and the Deathly Hallows Part 2     WB  381,000,000.00   \n",
       "2758                     Star Wars: The Last Jedi     BV  620,200,000.00   \n",
       "3081               Jurassic World: Fallen Kingdom   Uni.  417,700,000.00   \n",
       "\n",
       "        foreign_gross  year      total_gross  \n",
       "1872 1,132,859,475.00  2015 2,069,559,475.00  \n",
       "3079 1,369,544,272.00  2018 2,048,344,272.00  \n",
       "1873 1,018,130,819.00  2015 1,670,430,819.00  \n",
       "727    895,500,000.00  2012 1,518,900,000.00  \n",
       "1874 1,162,334,379.00  2015 1,515,334,379.00  \n",
       "1875   946,400,000.00  2015 1,405,400,000.00  \n",
       "3080   646,900,000.00  2018 1,347,000,000.00  \n",
       "328    960,500,000.00  2011 1,341,500,000.00  \n",
       "2758   712,400,000.00  2017 1,332,600,000.00  \n",
       "3081   891,800,000.00  2018 1,309,500,000.00  "
      ]
     },
     "metadata": {},
     "output_type": "display_data"
    }
   ],
   "source": [
    "gross_df['total_gross'] = (gross_df['domestic_gross'] + \n",
    "                           gross_df['foreign_gross'])\n",
    "\n",
    "# creating top_100_x dataframes\n",
    "\n",
    "top_100_domestic = gross_df.sort_values('domestic_gross',\n",
    "                                        ascending=False)[:100]\n",
    "top_100_foreign = gross_df.sort_values('foreign_gross', ascending=False)[:100]\n",
    "top_100_total = gross_df.sort_values('total_gross', ascending=False)[:100]\n",
    "\n",
    "display(top_100_domestic.head(10))\n",
    "display(top_100_foreign.head(10))\n",
    "display(top_100_total.head(10))"
   ]
  },
  {
   "cell_type": "markdown",
   "metadata": {},
   "source": [
    "In this section we have cleaned, aggregated, and sorted the data so we can attempt to answer questions about the gross sales of different movies across the domestic and foreign markets."
   ]
  },
  {
   "cell_type": "markdown",
   "metadata": {},
   "source": [
    "## Cleaning 'Title Basics'."
   ]
  },
  {
   "cell_type": "code",
   "execution_count": 13,
   "metadata": {},
   "outputs": [
    {
     "data": {
      "text/html": [
       "<div>\n",
       "<style scoped>\n",
       "    .dataframe tbody tr th:only-of-type {\n",
       "        vertical-align: middle;\n",
       "    }\n",
       "\n",
       "    .dataframe tbody tr th {\n",
       "        vertical-align: top;\n",
       "    }\n",
       "\n",
       "    .dataframe thead th {\n",
       "        text-align: right;\n",
       "    }\n",
       "</style>\n",
       "<table border=\"1\" class=\"dataframe\">\n",
       "  <thead>\n",
       "    <tr style=\"text-align: right;\">\n",
       "      <th></th>\n",
       "      <th>tconst</th>\n",
       "      <th>primary_title</th>\n",
       "      <th>original_title</th>\n",
       "      <th>start_year</th>\n",
       "      <th>runtime_minutes</th>\n",
       "      <th>genres</th>\n",
       "    </tr>\n",
       "  </thead>\n",
       "  <tbody>\n",
       "    <tr>\n",
       "      <th>0</th>\n",
       "      <td>tt0063540</td>\n",
       "      <td>Sunghursh</td>\n",
       "      <td>Sunghursh</td>\n",
       "      <td>2013</td>\n",
       "      <td>175.00</td>\n",
       "      <td>Action,Crime,Drama</td>\n",
       "    </tr>\n",
       "    <tr>\n",
       "      <th>1</th>\n",
       "      <td>tt0066787</td>\n",
       "      <td>One Day Before the Rainy Season</td>\n",
       "      <td>Ashad Ka Ek Din</td>\n",
       "      <td>2019</td>\n",
       "      <td>114.00</td>\n",
       "      <td>Biography,Drama</td>\n",
       "    </tr>\n",
       "    <tr>\n",
       "      <th>2</th>\n",
       "      <td>tt0069049</td>\n",
       "      <td>The Other Side of the Wind</td>\n",
       "      <td>The Other Side of the Wind</td>\n",
       "      <td>2018</td>\n",
       "      <td>122.00</td>\n",
       "      <td>Drama</td>\n",
       "    </tr>\n",
       "    <tr>\n",
       "      <th>3</th>\n",
       "      <td>tt0069204</td>\n",
       "      <td>Sabse Bada Sukh</td>\n",
       "      <td>Sabse Bada Sukh</td>\n",
       "      <td>2018</td>\n",
       "      <td>nan</td>\n",
       "      <td>Comedy,Drama</td>\n",
       "    </tr>\n",
       "    <tr>\n",
       "      <th>4</th>\n",
       "      <td>tt0100275</td>\n",
       "      <td>The Wandering Soap Opera</td>\n",
       "      <td>La Telenovela Errante</td>\n",
       "      <td>2017</td>\n",
       "      <td>80.00</td>\n",
       "      <td>Comedy,Drama,Fantasy</td>\n",
       "    </tr>\n",
       "  </tbody>\n",
       "</table>\n",
       "</div>"
      ],
      "text/plain": [
       "      tconst                    primary_title              original_title  \\\n",
       "0  tt0063540                        Sunghursh                   Sunghursh   \n",
       "1  tt0066787  One Day Before the Rainy Season             Ashad Ka Ek Din   \n",
       "2  tt0069049       The Other Side of the Wind  The Other Side of the Wind   \n",
       "3  tt0069204                  Sabse Bada Sukh             Sabse Bada Sukh   \n",
       "4  tt0100275         The Wandering Soap Opera       La Telenovela Errante   \n",
       "\n",
       "   start_year  runtime_minutes                genres  \n",
       "0        2013           175.00    Action,Crime,Drama  \n",
       "1        2019           114.00       Biography,Drama  \n",
       "2        2018           122.00                 Drama  \n",
       "3        2018              nan          Comedy,Drama  \n",
       "4        2017            80.00  Comedy,Drama,Fantasy  "
      ]
     },
     "metadata": {},
     "output_type": "display_data"
    },
    {
     "name": "stdout",
     "output_type": "stream",
     "text": [
      "<class 'pandas.core.frame.DataFrame'>\n",
      "RangeIndex: 146144 entries, 0 to 146143\n",
      "Data columns (total 6 columns):\n",
      " #   Column           Non-Null Count   Dtype  \n",
      "---  ------           --------------   -----  \n",
      " 0   tconst           146144 non-null  object \n",
      " 1   primary_title    146144 non-null  object \n",
      " 2   original_title   146123 non-null  object \n",
      " 3   start_year       146144 non-null  int64  \n",
      " 4   runtime_minutes  114405 non-null  float64\n",
      " 5   genres           140736 non-null  object \n",
      "dtypes: float64(1), int64(1), object(4)\n",
      "memory usage: 6.7+ MB\n"
     ]
    },
    {
     "data": {
      "text/plain": [
       "None"
      ]
     },
     "metadata": {},
     "output_type": "display_data"
    },
    {
     "data": {
      "text/plain": [
       "tconst                 0\n",
       "primary_title          0\n",
       "original_title        21\n",
       "start_year             0\n",
       "runtime_minutes    31739\n",
       "genres              5408\n",
       "dtype: int64"
      ]
     },
     "metadata": {},
     "output_type": "display_data"
    },
    {
     "data": {
      "text/plain": [
       "(None, None, None)"
      ]
     },
     "execution_count": 13,
     "metadata": {},
     "output_type": "execute_result"
    }
   ],
   "source": [
    "title_basics_df = pd.read_csv(title_basics)\n",
    "prelim(title_basics_df)"
   ]
  },
  {
   "cell_type": "markdown",
   "metadata": {},
   "source": [
    "The title.basics table appears to contain a data frame primarily of movies from 2010-2021, but also with some titles from ***THE FUTURE***. Each row represents one movie, and contains columns with the following values:\n",
    "\n",
    "'tconst', 'primary_title', 'original_title', 'start_year','runtime_minutes', 'genres'\n",
    "\n",
    "There are no null entries in the tconst column, which is an object, as I would expect, and this column can be used as the index to ***join this df with other dfs that are similarly formatted.***\n",
    "\n",
    "There are no null entries in the start_year column, which is an integer, as I would expect. ***This column will require cleaning to deal with movies from the future.***\n",
    "\n",
    "There are significant null entires in the runtime_minutes column, which may be of questionable use. ***It may be worth exploring the relationship between movie length and box office success.***\n",
    "\n",
    "There are 5408 null values in the genres column. This column will require more exploration as we will need it to help make decisions about what kind of movies Microsoft should be making.\n",
    "\n",
    "I will first merge this DataFrame with the gross_df to focus our analysis on movies that we have complete gross sales data on. There are two potential columns in the title_basics_df that we can use to merge: 'primary_title' and 'original_title'. Below are two different dfs that show us which column has more overlap with the gross_df."
   ]
  },
  {
   "cell_type": "code",
   "execution_count": 14,
   "metadata": {},
   "outputs": [
    {
     "data": {
      "text/plain": [
       "2776"
      ]
     },
     "metadata": {},
     "output_type": "display_data"
    },
    {
     "data": {
      "text/plain": [
       "3366"
      ]
     },
     "metadata": {},
     "output_type": "display_data"
    }
   ],
   "source": [
    "# checking the size of the merged DataFrames\n",
    "\n",
    "df_orig = pd.merge(title_basics_df, gross_df, left_on='original_title',\n",
    "              right_on='title')\n",
    "df_pri = pd.merge(title_basics_df, gross_df, left_on='primary_title',\n",
    "              right_on='title')\n",
    "display(len(df_orig))\n",
    "display(len(df_pri))"
   ]
  },
  {
   "cell_type": "markdown",
   "metadata": {},
   "source": [
    "The 'primary_title' series has more overlap with gross_df. This is the merged df that we will use for the rest of our EDA in this section.\n",
    "\n",
    "Exploring the 'genre' column:"
   ]
  },
  {
   "cell_type": "code",
   "execution_count": 15,
   "metadata": {},
   "outputs": [
    {
     "data": {
      "text/plain": [
       "Drama                      392\n",
       "Documentary                168\n",
       "Comedy,Drama,Romance       138\n",
       "Comedy,Drama               137\n",
       "Drama,Romance              115\n",
       "                          ... \n",
       "Biography,Comedy             1\n",
       "History                      1\n",
       "Documentary,Drama,Music      1\n",
       "Comedy,Mystery,Sci-Fi        1\n",
       "Adventure,Drama,Sport        1\n",
       "Name: genres, Length: 331, dtype: int64"
      ]
     },
     "execution_count": 15,
     "metadata": {},
     "output_type": "execute_result"
    }
   ],
   "source": [
    "df_pri['genres'].value_counts()"
   ]
  },
  {
   "cell_type": "code",
   "execution_count": 16,
   "metadata": {},
   "outputs": [
    {
     "data": {
      "text/plain": [
       "Drama          1876\n",
       "Comedy          965\n",
       "Action          664\n",
       "Romance         483\n",
       "Thriller        479\n",
       "Adventure       446\n",
       "Crime           390\n",
       "Documentary     334\n",
       "Biography       306\n",
       "Horror          261\n",
       "Mystery         221\n",
       "Fantasy         177\n",
       "Animation       157\n",
       "History         149\n",
       "Sci-Fi          139\n",
       "Family          129\n",
       "Music           117\n",
       "Sport            57\n",
       "War              53\n",
       "Western          22\n",
       "News              6\n",
       "Name: genres, dtype: int64"
      ]
     },
     "execution_count": 16,
     "metadata": {},
     "output_type": "execute_result"
    }
   ],
   "source": [
    "# splitting the genres into lists in a new column\n",
    "\n",
    "df = df_pri.copy() \n",
    "df['genres'] = df['genres'].str.split(',')\n",
    "\n",
    "# 'exploding' the 'genres_split' list to get multiple entries for each film by genre\n",
    "\n",
    "df = df.explode('genres')\n",
    "\n",
    "# cleaning redundencies in genre\n",
    "df['genres'] = df['genres'].str.replace('Musical', 'Music')\n",
    "\n",
    "# sanity check\n",
    "df['genres'].value_counts()"
   ]
  },
  {
   "cell_type": "markdown",
   "metadata": {},
   "source": [
    "In this section we have cleaned, aggregated, and sorted the data so we can attempt to answer questions about the average gross sales of different genres."
   ]
  },
  {
   "cell_type": "markdown",
   "metadata": {},
   "source": [
    "## Cleaning 'Movie Budgets'"
   ]
  },
  {
   "cell_type": "code",
   "execution_count": 17,
   "metadata": {},
   "outputs": [
    {
     "data": {
      "text/html": [
       "<div>\n",
       "<style scoped>\n",
       "    .dataframe tbody tr th:only-of-type {\n",
       "        vertical-align: middle;\n",
       "    }\n",
       "\n",
       "    .dataframe tbody tr th {\n",
       "        vertical-align: top;\n",
       "    }\n",
       "\n",
       "    .dataframe thead th {\n",
       "        text-align: right;\n",
       "    }\n",
       "</style>\n",
       "<table border=\"1\" class=\"dataframe\">\n",
       "  <thead>\n",
       "    <tr style=\"text-align: right;\">\n",
       "      <th></th>\n",
       "      <th>id</th>\n",
       "      <th>release_date</th>\n",
       "      <th>movie</th>\n",
       "      <th>production_budget</th>\n",
       "      <th>domestic_gross</th>\n",
       "      <th>worldwide_gross</th>\n",
       "    </tr>\n",
       "  </thead>\n",
       "  <tbody>\n",
       "    <tr>\n",
       "      <th>0</th>\n",
       "      <td>1</td>\n",
       "      <td>Dec 18, 2009</td>\n",
       "      <td>Avatar</td>\n",
       "      <td>$425,000,000</td>\n",
       "      <td>$760,507,625</td>\n",
       "      <td>$2,776,345,279</td>\n",
       "    </tr>\n",
       "    <tr>\n",
       "      <th>1</th>\n",
       "      <td>2</td>\n",
       "      <td>May 20, 2011</td>\n",
       "      <td>Pirates of the Caribbean: On Stranger Tides</td>\n",
       "      <td>$410,600,000</td>\n",
       "      <td>$241,063,875</td>\n",
       "      <td>$1,045,663,875</td>\n",
       "    </tr>\n",
       "    <tr>\n",
       "      <th>2</th>\n",
       "      <td>3</td>\n",
       "      <td>Jun 7, 2019</td>\n",
       "      <td>Dark Phoenix</td>\n",
       "      <td>$350,000,000</td>\n",
       "      <td>$42,762,350</td>\n",
       "      <td>$149,762,350</td>\n",
       "    </tr>\n",
       "    <tr>\n",
       "      <th>3</th>\n",
       "      <td>4</td>\n",
       "      <td>May 1, 2015</td>\n",
       "      <td>Avengers: Age of Ultron</td>\n",
       "      <td>$330,600,000</td>\n",
       "      <td>$459,005,868</td>\n",
       "      <td>$1,403,013,963</td>\n",
       "    </tr>\n",
       "    <tr>\n",
       "      <th>4</th>\n",
       "      <td>5</td>\n",
       "      <td>Dec 15, 2017</td>\n",
       "      <td>Star Wars Ep. VIII: The Last Jedi</td>\n",
       "      <td>$317,000,000</td>\n",
       "      <td>$620,181,382</td>\n",
       "      <td>$1,316,721,747</td>\n",
       "    </tr>\n",
       "  </tbody>\n",
       "</table>\n",
       "</div>"
      ],
      "text/plain": [
       "   id  release_date                                        movie  \\\n",
       "0   1  Dec 18, 2009                                       Avatar   \n",
       "1   2  May 20, 2011  Pirates of the Caribbean: On Stranger Tides   \n",
       "2   3   Jun 7, 2019                                 Dark Phoenix   \n",
       "3   4   May 1, 2015                      Avengers: Age of Ultron   \n",
       "4   5  Dec 15, 2017            Star Wars Ep. VIII: The Last Jedi   \n",
       "\n",
       "  production_budget domestic_gross worldwide_gross  \n",
       "0      $425,000,000   $760,507,625  $2,776,345,279  \n",
       "1      $410,600,000   $241,063,875  $1,045,663,875  \n",
       "2      $350,000,000    $42,762,350    $149,762,350  \n",
       "3      $330,600,000   $459,005,868  $1,403,013,963  \n",
       "4      $317,000,000   $620,181,382  $1,316,721,747  "
      ]
     },
     "metadata": {},
     "output_type": "display_data"
    },
    {
     "name": "stdout",
     "output_type": "stream",
     "text": [
      "<class 'pandas.core.frame.DataFrame'>\n",
      "RangeIndex: 5782 entries, 0 to 5781\n",
      "Data columns (total 6 columns):\n",
      " #   Column             Non-Null Count  Dtype \n",
      "---  ------             --------------  ----- \n",
      " 0   id                 5782 non-null   int64 \n",
      " 1   release_date       5782 non-null   object\n",
      " 2   movie              5782 non-null   object\n",
      " 3   production_budget  5782 non-null   object\n",
      " 4   domestic_gross     5782 non-null   object\n",
      " 5   worldwide_gross    5782 non-null   object\n",
      "dtypes: int64(1), object(5)\n",
      "memory usage: 271.2+ KB\n"
     ]
    },
    {
     "data": {
      "text/plain": [
       "None"
      ]
     },
     "metadata": {},
     "output_type": "display_data"
    },
    {
     "data": {
      "text/plain": [
       "id                   0\n",
       "release_date         0\n",
       "movie                0\n",
       "production_budget    0\n",
       "domestic_gross       0\n",
       "worldwide_gross      0\n",
       "dtype: int64"
      ]
     },
     "metadata": {},
     "output_type": "display_data"
    },
    {
     "data": {
      "text/plain": [
       "(None, None, None)"
      ]
     },
     "execution_count": 17,
     "metadata": {},
     "output_type": "execute_result"
    }
   ],
   "source": [
    "budget_df = pd.read_csv(budget_url)\n",
    "prelim(budget_df)"
   ]
  },
  {
   "cell_type": "markdown",
   "metadata": {},
   "source": [
    "The budget_df contains data about the release date, movie title, production budget, and box office gross. Since we already have cleaned gross data, we will be merging only the production budget and movie name with our existing df.\n",
    "\n",
    "Additionally we will have to clean and recast the production_budget column."
   ]
  },
  {
   "cell_type": "code",
   "execution_count": 18,
   "metadata": {
    "scrolled": false
   },
   "outputs": [
    {
     "data": {
      "text/html": [
       "<div>\n",
       "<style scoped>\n",
       "    .dataframe tbody tr th:only-of-type {\n",
       "        vertical-align: middle;\n",
       "    }\n",
       "\n",
       "    .dataframe tbody tr th {\n",
       "        vertical-align: top;\n",
       "    }\n",
       "\n",
       "    .dataframe thead th {\n",
       "        text-align: right;\n",
       "    }\n",
       "</style>\n",
       "<table border=\"1\" class=\"dataframe\">\n",
       "  <thead>\n",
       "    <tr style=\"text-align: right;\">\n",
       "      <th></th>\n",
       "      <th>tconst</th>\n",
       "      <th>runtime_minutes</th>\n",
       "      <th>genres</th>\n",
       "      <th>title</th>\n",
       "      <th>domestic_gross_x</th>\n",
       "      <th>foreign_gross</th>\n",
       "      <th>year</th>\n",
       "      <th>total_gross</th>\n",
       "      <th>production_budget</th>\n",
       "    </tr>\n",
       "  </thead>\n",
       "  <tbody>\n",
       "    <tr>\n",
       "      <th>928</th>\n",
       "      <td>tt1298650</td>\n",
       "      <td>136.00</td>\n",
       "      <td>Action</td>\n",
       "      <td>Pirates of the Caribbean: On Stranger Tides</td>\n",
       "      <td>241,100,000.00</td>\n",
       "      <td>804,600,000.00</td>\n",
       "      <td>2011</td>\n",
       "      <td>1,045,700,000.00</td>\n",
       "      <td>410,600,000.00</td>\n",
       "    </tr>\n",
       "    <tr>\n",
       "      <th>929</th>\n",
       "      <td>tt1298650</td>\n",
       "      <td>136.00</td>\n",
       "      <td>Adventure</td>\n",
       "      <td>Pirates of the Caribbean: On Stranger Tides</td>\n",
       "      <td>241,100,000.00</td>\n",
       "      <td>804,600,000.00</td>\n",
       "      <td>2011</td>\n",
       "      <td>1,045,700,000.00</td>\n",
       "      <td>410,600,000.00</td>\n",
       "    </tr>\n",
       "    <tr>\n",
       "      <th>930</th>\n",
       "      <td>tt1298650</td>\n",
       "      <td>136.00</td>\n",
       "      <td>Fantasy</td>\n",
       "      <td>Pirates of the Caribbean: On Stranger Tides</td>\n",
       "      <td>241,100,000.00</td>\n",
       "      <td>804,600,000.00</td>\n",
       "      <td>2011</td>\n",
       "      <td>1,045,700,000.00</td>\n",
       "      <td>410,600,000.00</td>\n",
       "    </tr>\n",
       "    <tr>\n",
       "      <th>2797</th>\n",
       "      <td>tt2395427</td>\n",
       "      <td>141.00</td>\n",
       "      <td>Sci-Fi</td>\n",
       "      <td>Avengers: Age of Ultron</td>\n",
       "      <td>459,000,000.00</td>\n",
       "      <td>946,400,000.00</td>\n",
       "      <td>2015</td>\n",
       "      <td>1,405,400,000.00</td>\n",
       "      <td>330,600,000.00</td>\n",
       "    </tr>\n",
       "    <tr>\n",
       "      <th>2796</th>\n",
       "      <td>tt2395427</td>\n",
       "      <td>141.00</td>\n",
       "      <td>Adventure</td>\n",
       "      <td>Avengers: Age of Ultron</td>\n",
       "      <td>459,000,000.00</td>\n",
       "      <td>946,400,000.00</td>\n",
       "      <td>2015</td>\n",
       "      <td>1,405,400,000.00</td>\n",
       "      <td>330,600,000.00</td>\n",
       "    </tr>\n",
       "  </tbody>\n",
       "</table>\n",
       "</div>"
      ],
      "text/plain": [
       "         tconst  runtime_minutes     genres  \\\n",
       "928   tt1298650           136.00     Action   \n",
       "929   tt1298650           136.00  Adventure   \n",
       "930   tt1298650           136.00    Fantasy   \n",
       "2797  tt2395427           141.00     Sci-Fi   \n",
       "2796  tt2395427           141.00  Adventure   \n",
       "\n",
       "                                            title  domestic_gross_x  \\\n",
       "928   Pirates of the Caribbean: On Stranger Tides    241,100,000.00   \n",
       "929   Pirates of the Caribbean: On Stranger Tides    241,100,000.00   \n",
       "930   Pirates of the Caribbean: On Stranger Tides    241,100,000.00   \n",
       "2797                      Avengers: Age of Ultron    459,000,000.00   \n",
       "2796                      Avengers: Age of Ultron    459,000,000.00   \n",
       "\n",
       "      foreign_gross  year      total_gross  production_budget  \n",
       "928  804,600,000.00  2011 1,045,700,000.00     410,600,000.00  \n",
       "929  804,600,000.00  2011 1,045,700,000.00     410,600,000.00  \n",
       "930  804,600,000.00  2011 1,045,700,000.00     410,600,000.00  \n",
       "2797 946,400,000.00  2015 1,405,400,000.00     330,600,000.00  \n",
       "2796 946,400,000.00  2015 1,405,400,000.00     330,600,000.00  "
      ]
     },
     "execution_count": 18,
     "metadata": {},
     "output_type": "execute_result"
    }
   ],
   "source": [
    "# merge dfs \n",
    "\n",
    "df = pd.merge(df, budget_df, left_on='primary_title', right_on='movie')\n",
    "\n",
    "# clean, recast budget column as float\n",
    "df['production_budget'] = df['production_budget'].str.strip(\n",
    "    '$').str.replace(',','').astype(float)\n",
    "\n",
    "# dropping irrelevent columns\n",
    "df = df.drop(['id', 'release_date', 'movie', 'domestic_gross_y',\n",
    "              'worldwide_gross', 'start_year', 'original_title',\n",
    "             'primary_title', 'studio'], axis=1)\n",
    "\n",
    "# and sanity check\n",
    "df.sort_values('production_budget', ascending=False).head()"
   ]
  },
  {
   "cell_type": "markdown",
   "metadata": {},
   "source": [
    "In order to deepen our understanding of the profitability of movies  I will engineer two new features to our DataFrame:\n",
    "\n",
    "revenue, defined as total_gross - production_budget\n",
    "\n",
    "ROI, expressed as a percentage, defined as (revenue / production_budget) * 100"
   ]
  },
  {
   "cell_type": "code",
   "execution_count": 19,
   "metadata": {},
   "outputs": [],
   "source": [
    "df['revenue'] = df['total_gross'] - df['production_budget']\n",
    "df['ROI'] = df['revenue'] / df['production_budget'] * 100"
   ]
  },
  {
   "cell_type": "markdown",
   "metadata": {},
   "source": [
    "This DataFrame is now in its final form that we will use to solve for our question and to create plots."
   ]
  },
  {
   "cell_type": "markdown",
   "metadata": {},
   "source": [
    "# Q1 What are the Highest Grossing Genres from 2010-2018\n",
    "\n",
    "Previously we cleaned and sorted our data to see which movies are the top grossing across both the domestic and foreign markets."
   ]
  },
  {
   "cell_type": "code",
   "execution_count": 20,
   "metadata": {},
   "outputs": [
    {
     "data": {
      "text/plain": [
       "''"
      ]
     },
     "execution_count": 20,
     "metadata": {},
     "output_type": "execute_result"
    },
    {
     "data": {
      "image/png": "[encoded data removed]",
      "text/plain": [
       "<Figure size 1440x720 with 3 Axes>"
      ]
     },
     "metadata": {
      "needs_background": "light"
     },
     "output_type": "display_data"
    }
   ],
   "source": [
    "# plotting bar charts for the top 10 movies, by gross\n",
    "fig, (ax1, ax2, ax3) = plt.subplots(1 ,3 , figsize=(20,10))\n",
    "\n",
    "sns.barplot(data=top_100_domestic.head(10), x='title',\n",
    "            y='domestic_gross', ax=ax1)\n",
    "sns.barplot(data=top_100_foreign.head(10), x='title',\n",
    "            y='foreign_gross', ax=ax2)\n",
    "sns.barplot(data=top_100_total.head(10), x='title',\n",
    "            y='total_gross', ax=ax3)\n",
    "\n",
    "ax1.set_title('Domestic')\n",
    "ax1.set_ylabel('hundred millions')\n",
    "ax1.set_xticklabels(ax1.get_xticklabels(),rotation=45, ha='right')\n",
    "\n",
    "ax2.set_title('Foreign')\n",
    "ax2.set_ylabel('billions')\n",
    "ax2.set_xticklabels(ax2.get_xticklabels(),rotation=45, ha='right')\n",
    "\n",
    "ax3.set_title('Total')\n",
    "ax3.set_ylabel('billions')\n",
    "ax3.set_xticklabels(ax3.get_xticklabels(),rotation=45, ha='right')\n",
    "\n",
    "plt.tight_layout()\n",
    "plt.suptitle('Top 10 Movies by Domestic, Foreign, and Total Gross', y=1.05)\n",
    ";"
   ]
  },
  {
   "cell_type": "markdown",
   "metadata": {},
   "source": [
    "The selected data demonstrates that the top grossing movies between 2010-2018 are, overwhelmingly, part of a series. In fact, out of the top 10 by total sales only one movie, Black Panther, is not part of a series.\n",
    "\n",
    "It is hard to make any recommendations based on this data. Both the Marvel and DC brands have strong existing relationships with particular studios, as do the Star Wars, Jurassic Park, Harry Potter, and Fast and Furious franchises. It is important to recognize the barriers to entry in creating a blockbuster movie that is part of a series.\n",
    "\n",
    "Exploring how this data relates to  genre will allow for more direct suggestions to be made."
   ]
  },
  {
   "cell_type": "code",
   "execution_count": 21,
   "metadata": {},
   "outputs": [
    {
     "data": {
      "image/png": "[encoded data removed]",
      "text/plain": [
       "<Figure size 1080x576 with 1 Axes>"
      ]
     },
     "metadata": {
      "needs_background": "light"
     },
     "output_type": "display_data"
    }
   ],
   "source": [
    "# calculating the mean value by genre, and ordering by sales for our plot\n",
    "df_sales = df.groupby('genres').mean()\n",
    "df_sales = df_sales.sort_values('total_gross', ascending=False)\n",
    "sales_order = df_sales.head(10).index\n",
    "\n",
    "# plotting top 10 genres by avg. sales\n",
    "fig, ax = plt.subplots(figsize=(15,8))\n",
    "sns.barplot(data=df.sort_values('total_gross',ascending=False),\n",
    "                                x= 'genres', y='total_gross', ci=68, ax=ax, \n",
    "            order=sales_order)\n",
    "ax.set_title('Top 10 Genres by Average Gross Sales', y=1.05)\n",
    "ax.set_xlabel('Genres')\n",
    "ax.set_ylabel('Mean Gross, in 100m USD')\n",
    "ax.set_xticklabels(ax.get_xticklabels(),rotation=45, ha='right');"
   ]
  },
  {
   "cell_type": "markdown",
   "metadata": {},
   "source": [
    "***The key take away is that sci-fi, adventure, and animated films all perform exceptionally well at the box office. The second tier of genres are action, fantasy, and family movies. If Microsoft's emphasis is on gross sales these are the genres I recommend they focus on.***\n",
    "\n",
    "However, given the crowded nature of these genres (the dominance of top grossing movies by series, franchises, and existing studios), it is important to look at both revenue and ROI as supplementary measures of success."
   ]
  },
  {
   "cell_type": "markdown",
   "metadata": {},
   "source": [
    "# Q2"
   ]
  },
  {
   "cell_type": "markdown",
   "metadata": {},
   "source": [
    "## What Genres Have the Highest Revenue"
   ]
  },
  {
   "cell_type": "code",
   "execution_count": 22,
   "metadata": {},
   "outputs": [
    {
     "data": {
      "image/png": "[encoded data removed]",
      "text/plain": [
       "<Figure size 1080x576 with 1 Axes>"
      ]
     },
     "metadata": {
      "needs_background": "light"
     },
     "output_type": "display_data"
    }
   ],
   "source": [
    "# calculating the mean value by genre, and ordering by revenue for our plot\n",
    "df_revenue = df.groupby('genres').mean()\n",
    "df_revenue = df_revenue.sort_values('revenue', ascending=False)\n",
    "revenue_order = df_revenue.head(10).index\n",
    "\n",
    "fig, ax = plt.subplots(figsize=(15,8))\n",
    "sns.barplot(data=df.sort_values('revenue',ascending=False),\n",
    "                                x= 'genres', y='revenue', ci=68, ax=ax,\n",
    "           order=revenue_order)\n",
    "ax.set_title('Top 10 Genres by Revenue', y=1.05)\n",
    "ax.set_xlabel('Genres')\n",
    "ax.set_ylabel('Mean Gross, in 100m USD')\n",
    "ax.set_xticklabels(ax.get_xticklabels(),rotation=45, ha='right');"
   ]
  },
  {
   "cell_type": "markdown",
   "metadata": {},
   "source": [
    "Perhaps unsurprisingly, the plot of genres by revenue very closely mirrors the plot of genres by gross sales. ***If Microsoft is interested in making movies that have high revenue, my recommendation would be to invest in making movies in the Animation, Sci-Fi, and Advenure genres***"
   ]
  },
  {
   "cell_type": "markdown",
   "metadata": {},
   "source": [
    "## Which Genres Have the Highest ROI"
   ]
  },
  {
   "cell_type": "code",
   "execution_count": 23,
   "metadata": {},
   "outputs": [
    {
     "data": {
      "image/png": "[encoded data removed]",
      "text/plain": [
       "<Figure size 1080x576 with 1 Axes>"
      ]
     },
     "metadata": {
      "needs_background": "light"
     },
     "output_type": "display_data"
    }
   ],
   "source": [
    "# calculating the mean value by genre, and ordering by ROI for our plot\n",
    "df_ROI = df.groupby('genres').mean()\n",
    "df_ROI = df_ROI.sort_values('ROI', ascending=False)\n",
    "ROI_order = df_ROI.head(10).index\n",
    "\n",
    "fig, ax = plt.subplots(figsize=(15,8))\n",
    "sns.barplot(data=df.sort_values('ROI',ascending=False),\n",
    "                                x= 'genres', y='ROI', ci=68, ax=ax,\n",
    "           order=ROI_order)\n",
    "ax.set_title('Top 10 Genres by ROI', y=1.05)\n",
    "ax.set_xlabel('Genres')\n",
    "ax.set_ylabel('Mean Gross, in 100m USD')\n",
    "ax.set_xticklabels(ax.get_xticklabels(),rotation=45, ha='right');"
   ]
  },
  {
   "cell_type": "markdown",
   "metadata": {},
   "source": [
    "When genres are sorted by their ROI, we see a completely different set of genres. Granted, ***the exceptionally large standard deviation of the top 4 genres here suggest there are outliers that are disproportionately skewing these results*** but it is interesting to note that that the top 4 genres do not even place in the top 5 by gross sales or revenue.\n",
    "\n",
    "***If Microsoft wanted to take a more conservative, risk averse approach to their movie studio, I would recommend making movies in the Mystery, Horror, Thriller, or Sport genre.***"
   ]
  },
  {
   "cell_type": "markdown",
   "metadata": {},
   "source": [
    "## Q3 Does a Higher Budget Correlate with a Higher ROI"
   ]
  },
  {
   "cell_type": "markdown",
   "metadata": {},
   "source": [
    "I will identify possible outliers in order to better identify which genres offer a higher ROI and a lower production budget."
   ]
  },
  {
   "cell_type": "code",
   "execution_count": 24,
   "metadata": {},
   "outputs": [
    {
     "data": {
      "text/plain": [
       "1392.6096666012793"
      ]
     },
     "execution_count": 24,
     "metadata": {},
     "output_type": "execute_result"
    }
   ],
   "source": [
    "df['ROI'].std()"
   ]
  },
  {
   "cell_type": "code",
   "execution_count": 25,
   "metadata": {},
   "outputs": [],
   "source": [
    "# eliminating outliers that fall outside of 2 standard deviations\n",
    "df_corrected = df.loc[df['ROI'] <= 2* df['ROI'].std()]"
   ]
  },
  {
   "cell_type": "code",
   "execution_count": 26,
   "metadata": {},
   "outputs": [
    {
     "data": {
      "text/html": [
       "<div>\n",
       "<style scoped>\n",
       "    .dataframe tbody tr th:only-of-type {\n",
       "        vertical-align: middle;\n",
       "    }\n",
       "\n",
       "    .dataframe tbody tr th {\n",
       "        vertical-align: top;\n",
       "    }\n",
       "\n",
       "    .dataframe thead th {\n",
       "        text-align: right;\n",
       "    }\n",
       "</style>\n",
       "<table border=\"1\" class=\"dataframe\">\n",
       "  <thead>\n",
       "    <tr style=\"text-align: right;\">\n",
       "      <th></th>\n",
       "      <th>tconst</th>\n",
       "      <th>runtime_minutes</th>\n",
       "      <th>genres</th>\n",
       "      <th>title</th>\n",
       "      <th>domestic_gross_x</th>\n",
       "      <th>foreign_gross</th>\n",
       "      <th>year</th>\n",
       "      <th>total_gross</th>\n",
       "      <th>production_budget</th>\n",
       "      <th>revenue</th>\n",
       "      <th>ROI</th>\n",
       "    </tr>\n",
       "  </thead>\n",
       "  <tbody>\n",
       "    <tr>\n",
       "      <th>3718</th>\n",
       "      <td>tt7401588</td>\n",
       "      <td>118.00</td>\n",
       "      <td>Comedy</td>\n",
       "      <td>Instant Family</td>\n",
       "      <td>67,400,000.00</td>\n",
       "      <td>53,200,000.00</td>\n",
       "      <td>2018</td>\n",
       "      <td>120,600,000.00</td>\n",
       "      <td>48,000,000.00</td>\n",
       "      <td>72,600,000.00</td>\n",
       "      <td>151.25</td>\n",
       "    </tr>\n",
       "    <tr>\n",
       "      <th>3719</th>\n",
       "      <td>tt7401588</td>\n",
       "      <td>118.00</td>\n",
       "      <td>Drama</td>\n",
       "      <td>Instant Family</td>\n",
       "      <td>67,400,000.00</td>\n",
       "      <td>53,200,000.00</td>\n",
       "      <td>2018</td>\n",
       "      <td>120,600,000.00</td>\n",
       "      <td>48,000,000.00</td>\n",
       "      <td>72,600,000.00</td>\n",
       "      <td>151.25</td>\n",
       "    </tr>\n",
       "    <tr>\n",
       "      <th>3720</th>\n",
       "      <td>tt7784604</td>\n",
       "      <td>127.00</td>\n",
       "      <td>Drama</td>\n",
       "      <td>Hereditary</td>\n",
       "      <td>44,100,000.00</td>\n",
       "      <td>35,300,000.00</td>\n",
       "      <td>2018</td>\n",
       "      <td>79,400,000.00</td>\n",
       "      <td>10,000,000.00</td>\n",
       "      <td>69,400,000.00</td>\n",
       "      <td>694.00</td>\n",
       "    </tr>\n",
       "    <tr>\n",
       "      <th>3721</th>\n",
       "      <td>tt7784604</td>\n",
       "      <td>127.00</td>\n",
       "      <td>Horror</td>\n",
       "      <td>Hereditary</td>\n",
       "      <td>44,100,000.00</td>\n",
       "      <td>35,300,000.00</td>\n",
       "      <td>2018</td>\n",
       "      <td>79,400,000.00</td>\n",
       "      <td>10,000,000.00</td>\n",
       "      <td>69,400,000.00</td>\n",
       "      <td>694.00</td>\n",
       "    </tr>\n",
       "    <tr>\n",
       "      <th>3722</th>\n",
       "      <td>tt7784604</td>\n",
       "      <td>127.00</td>\n",
       "      <td>Mystery</td>\n",
       "      <td>Hereditary</td>\n",
       "      <td>44,100,000.00</td>\n",
       "      <td>35,300,000.00</td>\n",
       "      <td>2018</td>\n",
       "      <td>79,400,000.00</td>\n",
       "      <td>10,000,000.00</td>\n",
       "      <td>69,400,000.00</td>\n",
       "      <td>694.00</td>\n",
       "    </tr>\n",
       "  </tbody>\n",
       "</table>\n",
       "</div>"
      ],
      "text/plain": [
       "         tconst  runtime_minutes   genres           title  domestic_gross_x  \\\n",
       "3718  tt7401588           118.00   Comedy  Instant Family     67,400,000.00   \n",
       "3719  tt7401588           118.00    Drama  Instant Family     67,400,000.00   \n",
       "3720  tt7784604           127.00    Drama      Hereditary     44,100,000.00   \n",
       "3721  tt7784604           127.00   Horror      Hereditary     44,100,000.00   \n",
       "3722  tt7784604           127.00  Mystery      Hereditary     44,100,000.00   \n",
       "\n",
       "      foreign_gross  year    total_gross  production_budget       revenue  \\\n",
       "3718  53,200,000.00  2018 120,600,000.00      48,000,000.00 72,600,000.00   \n",
       "3719  53,200,000.00  2018 120,600,000.00      48,000,000.00 72,600,000.00   \n",
       "3720  35,300,000.00  2018  79,400,000.00      10,000,000.00 69,400,000.00   \n",
       "3721  35,300,000.00  2018  79,400,000.00      10,000,000.00 69,400,000.00   \n",
       "3722  35,300,000.00  2018  79,400,000.00      10,000,000.00 69,400,000.00   \n",
       "\n",
       "        ROI  \n",
       "3718 151.25  \n",
       "3719 151.25  \n",
       "3720 694.00  \n",
       "3721 694.00  \n",
       "3722 694.00  "
      ]
     },
     "execution_count": 26,
     "metadata": {},
     "output_type": "execute_result"
    }
   ],
   "source": [
    "df_corrected.tail()"
   ]
  },
  {
   "cell_type": "code",
   "execution_count": 27,
   "metadata": {},
   "outputs": [],
   "source": [
    "# dropping irrelevant columns\n",
    "df_corrected = df_corrected.drop(['runtime_minutes', 'domestic_gross_x',\n",
    "                                  'foreign_gross', 'year', 'total_gross',\n",
    "                                  'revenue', 'tconst'], axis=1)"
   ]
  },
  {
   "cell_type": "code",
   "execution_count": 28,
   "metadata": {},
   "outputs": [],
   "source": [
    "df_corrected = df_corrected.groupby('genres').corr(method='pearson')"
   ]
  },
  {
   "cell_type": "code",
   "execution_count": 29,
   "metadata": {
    "scrolled": false
   },
   "outputs": [
    {
     "data": {
      "text/html": [
       "<div>\n",
       "<style scoped>\n",
       "    .dataframe tbody tr th:only-of-type {\n",
       "        vertical-align: middle;\n",
       "    }\n",
       "\n",
       "    .dataframe tbody tr th {\n",
       "        vertical-align: top;\n",
       "    }\n",
       "\n",
       "    .dataframe thead th {\n",
       "        text-align: right;\n",
       "    }\n",
       "</style>\n",
       "<table border=\"1\" class=\"dataframe\">\n",
       "  <thead>\n",
       "    <tr style=\"text-align: right;\">\n",
       "      <th></th>\n",
       "      <th></th>\n",
       "      <th>production_budget</th>\n",
       "      <th>ROI</th>\n",
       "    </tr>\n",
       "    <tr>\n",
       "      <th>genres</th>\n",
       "      <th></th>\n",
       "      <th></th>\n",
       "      <th></th>\n",
       "    </tr>\n",
       "  </thead>\n",
       "  <tbody>\n",
       "    <tr>\n",
       "      <th>Mystery</th>\n",
       "      <th>production_budget</th>\n",
       "      <td>1.00</td>\n",
       "      <td>-0.31</td>\n",
       "    </tr>\n",
       "    <tr>\n",
       "      <th>Horror</th>\n",
       "      <th>production_budget</th>\n",
       "      <td>1.00</td>\n",
       "      <td>-0.23</td>\n",
       "    </tr>\n",
       "    <tr>\n",
       "      <th>Romance</th>\n",
       "      <th>production_budget</th>\n",
       "      <td>1.00</td>\n",
       "      <td>-0.15</td>\n",
       "    </tr>\n",
       "    <tr>\n",
       "      <th>Thriller</th>\n",
       "      <th>production_budget</th>\n",
       "      <td>1.00</td>\n",
       "      <td>-0.15</td>\n",
       "    </tr>\n",
       "    <tr>\n",
       "      <th>Drama</th>\n",
       "      <th>production_budget</th>\n",
       "      <td>1.00</td>\n",
       "      <td>-0.09</td>\n",
       "    </tr>\n",
       "    <tr>\n",
       "      <th>Fantasy</th>\n",
       "      <th>production_budget</th>\n",
       "      <td>1.00</td>\n",
       "      <td>-0.09</td>\n",
       "    </tr>\n",
       "    <tr>\n",
       "      <th>Documentary</th>\n",
       "      <th>production_budget</th>\n",
       "      <td>1.00</td>\n",
       "      <td>-0.08</td>\n",
       "    </tr>\n",
       "    <tr>\n",
       "      <th>Sci-Fi</th>\n",
       "      <th>production_budget</th>\n",
       "      <td>1.00</td>\n",
       "      <td>-0.08</td>\n",
       "    </tr>\n",
       "    <tr>\n",
       "      <th>Comedy</th>\n",
       "      <th>production_budget</th>\n",
       "      <td>1.00</td>\n",
       "      <td>-0.02</td>\n",
       "    </tr>\n",
       "    <tr>\n",
       "      <th>History</th>\n",
       "      <th>production_budget</th>\n",
       "      <td>1.00</td>\n",
       "      <td>-0.00</td>\n",
       "    </tr>\n",
       "  </tbody>\n",
       "</table>\n",
       "</div>"
      ],
      "text/plain": [
       "                               production_budget   ROI\n",
       "genres                                                \n",
       "Mystery     production_budget               1.00 -0.31\n",
       "Horror      production_budget               1.00 -0.23\n",
       "Romance     production_budget               1.00 -0.15\n",
       "Thriller    production_budget               1.00 -0.15\n",
       "Drama       production_budget               1.00 -0.09\n",
       "Fantasy     production_budget               1.00 -0.09\n",
       "Documentary production_budget               1.00 -0.08\n",
       "Sci-Fi      production_budget               1.00 -0.08\n",
       "Comedy      production_budget               1.00 -0.02\n",
       "History     production_budget               1.00 -0.00"
      ]
     },
     "execution_count": 29,
     "metadata": {},
     "output_type": "execute_result"
    }
   ],
   "source": [
    "df_corrected.loc[df_corrected['ROI'] < 0].sort_values('ROI')"
   ]
  },
  {
   "cell_type": "markdown",
   "metadata": {},
   "source": [
    "After dropping extreme outliers, the three genres where there is the most significant negative correlation between production budget and ROI are Mystery, Horror, and Thriller.\n",
    "\n",
    "***If Microsoft is interested in making movies in lower risk genres, where the production budget has a lower correlation with gross sales, these are excellent genres to explore.***"
   ]
  },
  {
   "cell_type": "markdown",
   "metadata": {},
   "source": [
    "# Conclusions\n",
    "\n",
    "## Conclusions\n",
    "\n",
    "In this project I have analyzed, cleaned, and interpreted data in order to make suggestions about what types of movies Microsoft should be making for the launch of their new movie studio.\n",
    "\n",
    "The two primary metrics used to measure success in this project are 'total gross sales' (domestic box office gross + foreign box office gross) and return on investment ((total gross sales - production budget) / production budget).\n",
    "\n",
    "Using these metrics I have determined that the genres of movie with the highest total gross sales are:\n",
    "\n",
    "Sci-Fi\\\n",
    "Adventure\\\n",
    "Animation\n",
    "\n",
    "However, during the investigation of top grossing films, it is clear that the majority of these movies are part of a series. Unless there is a home-run series that Microsoft already has in its back pocket, it is unreasonable to expect that a new series would immediately be a commercial success.\n",
    "\n",
    "Upon examining the ROI plotted against production budget, it becomes clear that certain genres of movie have a higher ROI than others. These genres, having the most 'bang for the buck are:\n",
    "\n",
    "Mystery\\\n",
    "Horror\\\n",
    "Thriller\n",
    "\n",
    "These are the types of movies that I think it is most prudent for Microsoft to make."
   ]
  },
  {
   "cell_type": "markdown",
   "metadata": {},
   "source": [
    "## Areas For Further Investigation\n",
    "\n",
    "Given the number of blockbuster movies that are in the top 10 by total sales, it would be interesting to determine the box office success of stand-alone movies, and to also look at the performance of the first movie in a series. These insights could help inform Microsoft's decision to make movies in those genres.\n",
    "\n"
   ]
  }
 ],
 "metadata": {
  "kernelspec": {
   "display_name": "Python (learn-env)",
   "language": "python",
   "name": "learn-env"
  },
  "language_info": {
   "codemirror_mode": {
    "name": "ipython",
    "version": 3
   },
   "file_extension": ".py",
   "mimetype": "text/x-python",
   "name": "python",
   "nbconvert_exporter": "python",
   "pygments_lexer": "ipython3",
   "version": "3.8.5"
  },
  "toc": {
   "base_numbering": 1,
   "nav_menu": {},
   "number_sections": true,
   "sideBar": true,
   "skip_h1_title": false,
   "title_cell": "Table of Contents",
   "title_sidebar": "Contents",
   "toc_cell": true,
   "toc_position": {},
   "toc_section_display": true,
   "toc_window_display": true
  }
 },
 "nbformat": 4,
 "nbformat_minor": 4
}
